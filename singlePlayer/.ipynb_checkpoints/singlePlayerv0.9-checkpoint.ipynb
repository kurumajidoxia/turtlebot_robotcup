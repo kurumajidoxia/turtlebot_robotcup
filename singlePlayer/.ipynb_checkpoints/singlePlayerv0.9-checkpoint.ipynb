{
 "cells": [
  {
   "cell_type": "code",
   "execution_count": 1,
   "metadata": {},
   "outputs": [],
   "source": [
    "import rospy\n",
    "import math\n",
    "import numpy as np\n",
    "import cv2\n",
    "import time\n",
    "\n",
    "from sensor_msgs.msg import Image\n",
    "from aruco_msgs.msg import MarkerArray\n",
    "from cv_bridge import CvBridge, CvBridgeError\n",
    "from geometry_msgs.msg import Twist\n",
    "from nav_msgs.msg import Odometry\n",
    "from operator import itemgetter\n",
    "\n",
    "import matplotlib.pyplot as plt\n",
    "%matplotlib inline\n",
    "\n",
    "bridge = CvBridge()\n",
    "\n",
    "#For organizing timestamps\n",
    "from bisect import bisect_left\n",
    "\n",
    "def takeClosest(myList, myNumber):\n",
    "    \"\"\"\n",
    "    Assumes myList is sorted. Returns closest value to myNumber.\n",
    "\n",
    "    If two numbers are equally close, return the smallest number.\n",
    "    \"\"\"\n",
    "    pos = bisect_left(myList, myNumber)\n",
    "    if pos == 0:\n",
    "        return myList[0]\n",
    "    if pos == len(myList):\n",
    "        return myList[-1]\n",
    "    before = myList[pos - 1]\n",
    "    after = myList[pos]\n",
    "    if after - myNumber < myNumber - before:\n",
    "       return after\n",
    "    else:\n",
    "       return before\n",
    "\n",
    "rospy.init_node('turtlebot_singleplayer', anonymous=True)\n",
    "rospy.sleep(0.5)\n",
    "lower_blue = (0,0,120)\n",
    "upper_blue = (100,100,255)\n",
    "lower_red = (200,0,0)\n",
    "upper_red = (255,100,100)\n",
    "\n",
    "def callback_color(msg):\n",
    "    global color_timestamp\n",
    "    global color_img\n",
    "    color_timestamp = msg.header.stamp\n",
    "    color_img = bridge.imgmsg_to_cv2(msg, \"rgb8\")\n",
    "\n",
    "def callback_depth(msg):\n",
    "    global depth_img\n",
    "    global depth_timestamp\n",
    "    depth_timestamp = msg.header.stamp\n",
    "    depth_img = bridge.imgmsg_to_cv2(msg, \"32FC1\")\n",
    "\n",
    "def callback_odom(data):\n",
    "    global x\n",
    "    global y\n",
    "    global theta\n",
    "    global odom_timestamp \n",
    "    position = data.pose.pose.position\n",
    "    orientation = data.pose.pose.orientation\n",
    "    odom_timestamp = data.header.stamp\n",
    "    x = round(position.x, 3)\n",
    "    y = round(position.y, 3)\n",
    "    theta = round(2*math.atan2(orientation.z,orientation.w), 3)\n",
    "    if theta<0:\n",
    "        theta = 2*math.pi + theta\n",
    "\n",
    "def callback_array(msg):\n",
    "    global marker_array\n",
    "    global marker_array_timestamp\n",
    "    marker_array_timestamp = msg.header.stamp\n",
    "    marker_array = msg.markers\n",
    "    #print \"Marker array:\",marker_array_timestamp\n",
    "\n",
    "\n",
    "#turn to certain theta\n",
    "def turnToTheta(theta_tar):\n",
    "    twist = Twist()\n",
    "    twist.linear.x = 0.0\n",
    "    ang_diff = theta_tar - theta\n",
    "    s = np.sign(ang_diff)\n",
    "    if abs(ang_diff) > math.pi:\n",
    "        s *= -1.0\n",
    "        ang_diff = 2*math.pi - abs(ang_diff)\n",
    "    ang_vel = s*ang_diff*0.6\n",
    "    if abs(ang_vel) < 0.2:\n",
    "        ang_vel = np.sign(ang_vel)*0.2\n",
    "    twist.angular.z = ang_vel\n",
    "    r = rospy.Rate(10)\n",
    "    while(abs(theta_tar-theta) > 0.1):\n",
    "        publisher.publish(twist)\n",
    "        r.sleep()\n",
    "        ang_diff = abs(theta_tar - theta)\n",
    "        if ang_diff > math.pi:\n",
    "            ang_diff = 2*math.pi - ang_diff\n",
    "        ang_vel = s*ang_diff*0.6\n",
    "        if abs(ang_vel) < 0.2:\n",
    "            ang_vel = np.sign(ang_vel)*0.2\n",
    "        twist.angular.z = ang_vel\n",
    "        #print theta\n",
    "\n",
    "def moveForward(distance):\n",
    "    distance = (distance - 0.155)/0.855\n",
    "    t = int(round(distance*25))\n",
    "    twist = Twist()\n",
    "    twist.linear.x = 0.4\n",
    "    twist.angular.z = 0.0\n",
    "    r = rospy.Rate(10)\n",
    "    for i in range(t):\n",
    "        publisher.publish(twist)\n",
    "        r.sleep()\n",
    "        \n",
    "def get_depth(colorim,depthim):\n",
    "    #mask_blue = cv2.inRange(colorim, lower_blue, upper_blue)\n",
    "    mask_red = cv2.inRange(colorim, lower_red, upper_red)\n",
    "    kernel = np.ones((5,5),np.uint8)\n",
    "    #erosion_blue = cv2.erode(mask_blue,kernel,iterations = 1)\n",
    "    #dilation_blue = cv2.dilate(erosion_blue,kernel,iterations = 3)\n",
    "    erosion_red = cv2.erode(mask_red,kernel,iterations = 1)\n",
    "    dilation_red = cv2.dilate(erosion_red,kernel,iterations = 3)\n",
    "    #mask = cv2.bitwise_or(dilation_blue, dilation_red)\n",
    "    mask = dilation_red\n",
    "    im, cnt, hrc = cv2.findContours(mask,cv2.RETR_EXTERNAL,cv2.CHAIN_APPROX_SIMPLE)\n",
    "    cnt.sort(key=cv2.contourArea, reverse=True)\n",
    "    if cnt:\n",
    "        x, y, w, h = cv2.boundingRect( cnt[0] )\n",
    "        if (w*h > 2000):\n",
    "            x_ball = x+w/2\n",
    "            y_ball = y+h/2\n",
    "            dist_ball = np.nanmedian(depthim[y:y+h,x:x+w])\n",
    "        else:\n",
    "            x_ball = 0\n",
    "            y_ball = 0\n",
    "            dist_ball = None\n",
    "    else:\n",
    "        x_ball = 0\n",
    "        y_ball = 0\n",
    "        dist_ball = None\n",
    "    return x_ball,y_ball,dist_ball\n",
    "\n",
    "def medfilt (x, k):\n",
    "    \"\"\"Apply a length-k median filter to a 1D array x.\n",
    "    Boundaries are extended by repeating endpoints.\n",
    "    \"\"\"\n",
    "    assert k % 2 == 1, \"Median filter length must be odd.\"\n",
    "    assert x.ndim == 1, \"Input must be one-dimensional.\"\n",
    "    k2 = (k - 1) // 2\n",
    "    y = np.zeros ((len (x), k), dtype=x.dtype)\n",
    "    y[:,k2] = x\n",
    "    for i in range (k2):\n",
    "        j = k2 - i\n",
    "        y[j:,i] = x[:-j]\n",
    "        y[:j,i] = x[0]\n",
    "        y[:-j,-(i+1)] = x[j:]\n",
    "        y[-j:,-(i+1)] = x[-1]\n",
    "    return np.median (y, axis=1)\n",
    "\n",
    "\n",
    "subscriber_color = rospy.Subscriber(\"/camera/rgb/image_rect_color\", Image, callback_color)\n",
    "subscriber_depth = rospy.Subscriber(\"/camera/depth/image_rect\", Image, callback_depth)\n",
    "subscriber = rospy.Subscriber(\"odom\", Odometry, callback_odom)\n",
    "publisher = rospy.Publisher('cmd_vel_mux/input/teleop', Twist, queue_size=10)\n",
    "subscriber_array = rospy.Subscriber(\"/aruco_marker_publisher/markers\", MarkerArray, callback_array)"
   ]
  },
  {
   "cell_type": "code",
   "execution_count": 2,
   "metadata": {},
   "outputs": [
    {
     "name": "stderr",
     "output_type": "stream",
     "text": [
      "/usr/lib/python2.7/dist-packages/numpy/lib/nanfunctions.py:689: RuntimeWarning: All-NaN slice encountered\n",
      "  warnings.warn(\"All-NaN slice encountered\", RuntimeWarning)\n"
     ]
    }
   ],
   "source": [
    "#Turn around look for the gate\n",
    "gate_dist, gate_stamp, gate_theta, gate_theta_raw, gate_theta_stamp = [],[],[],[],[] # Whether it was found, and its theta coordinate, and x \n",
    "twist = Twist()\n",
    "#We need this if we want to turn full circle\n",
    "theta_initial = theta\n",
    "theta_opposite = math.atan2(-math.sin(theta_initial),-math.cos(theta_initial))\n",
    "if theta_opposite < 0:\n",
    "    theta_opposite += 2* math.pi\n",
    "half_circle = False\n",
    "\n",
    "#For data storage\n",
    "marker_array = None\n",
    "m = None\n",
    "#Find gate\n",
    "while (abs(theta-theta_initial)>0.1 or (half_circle != True)):\n",
    "    if(abs(theta-theta_opposite)<0.1):\n",
    "        half_circle = True\n",
    "    twist.angular.z = 0.2\n",
    "    \n",
    "        \n",
    "    r = rospy.Rate(100)\n",
    "    for i in range(10):\n",
    "        publisher.publish(twist)\n",
    "        r.sleep()\n",
    "    \n",
    "    gate_theta_raw.append(theta)\n",
    "    gate_theta_stamp.append(odom_timestamp)\n",
    "    try:\n",
    "        m = marker_array[0]\n",
    "        gate_dist.append(abs(m.pose.pose.position.z))\n",
    "        gate_stamp.append(marker_array_timestamp)\n",
    "        marker_array = None\n",
    "    except TypeError:\n",
    "        pass\n",
    "    \n",
    "#Organizing timestamps\n",
    "for stamp in gate_stamp:\n",
    "    index = gate_theta_stamp.index(takeClosest(gate_theta_stamp, stamp))\n",
    "    gate_theta.append(gate_theta_raw[index])\n",
    "    \n",
    "#Data cleanup\n",
    "# sd = np.std(gate_theta)\n",
    "# mean = np.mean(gate_theta)\n",
    "# final_list = [x for x in gate_theta if (x > mean - sd)]\n",
    "# final_list = [x for x in final_list if (x < mean +  sd)]\n",
    "x_ = np.cos(gate_theta)\n",
    "y_ = np.sin(gate_theta)\n",
    "theta_gate = math.atan2(np.mean(y_),np.mean(x_))\n",
    "if theta_gate < 0:\n",
    "    theta_gate += 2*math.pi\n",
    "\n",
    "sd = np.std(gate_dist)\n",
    "mean = np.mean(gate_dist)\n",
    "final_list = [x for x in gate_dist if (x > mean - sd)]\n",
    "final_list = [x for x in final_list if (x < mean +  sd)]\n",
    "dist_gate = np.mean(final_list)\n",
    "\n",
    "#Calibrating the distance of the gate\n",
    "dist_gate = dist_gate * 1.08 + 0.03\n",
    "\n",
    "#Find ball\n",
    "twist = Twist()\n",
    "#We need this if we want to turn full circle\n",
    "theta_initial = theta\n",
    "theta_opposite = math.atan2(-math.sin(theta_initial),-math.cos(theta_initial))\n",
    "if theta_opposite < 0:\n",
    "    theta_opposite += 2* math.pi\n",
    "half_circle = False\n",
    "\n",
    "ball_pos = []\n",
    "while (abs(theta-theta_initial)>0.1 or (half_circle != True)):\n",
    "    if(abs(theta-theta_opposite)<0.1):\n",
    "        half_circle = True\n",
    "        \n",
    "    twist.angular.z = 0.2\n",
    "    r = rospy.Rate(100)\n",
    "    for i in range(5):\n",
    "        publisher.publish(twist)\n",
    "        r.sleep()\n",
    "    theta_cur = theta\n",
    "    colorim = color_img.copy()\n",
    "    depthim = depth_img.copy()\n",
    "    x_ball, y_ball, dist_ball = get_depth(colorim,depthim)\n",
    "    if dist_ball:\n",
    "        ball_pos.append([x_ball, y_ball, theta_cur, dist_ball])\n",
    "    \n",
    "#Cleanup theta\n",
    "ball_np = np.array(ball_pos)\n",
    "for index, ball in enumerate(ball_np):\n",
    "    if(ball[3]> np.nanmin(ball_np[:,3]) + np.nanstd(ball_np[:,3])):\n",
    "        ball_np[index] = [np.nan,np.nan,np.nan,np.nan]\n",
    "idx = np.nanargmin(np.abs(ball_np[:,0]-320))\n",
    "dist_balls = ball_np[idx,3]\n",
    "ball_theta = ball_np[:,2].copy()\n",
    "cos_ball = np.cos(ball_theta)\n",
    "sin_ball = np.sin(ball_theta)\n",
    "theta_ball = math.atan2(np.nanmean(sin_ball),np.nanmean(cos_ball))\n",
    "if theta_ball < 0:\n",
    "    theta_ball += 2*math.pi\n",
    "\n",
    "# #Calibrating the distance\n",
    "dist_balls = dist_balls *0.97 + 0.1\n",
    "\n",
    "#Theta cleanup\n",
    "# sd = np.std(ball_np[:,2])\n",
    "# mean = np.mean(ball_np[:,2])\n",
    "# final_list = [x for x in theta_list if (x > mean - sd)]\n",
    "# final_list = [x for x in final_list if (x < mean +  sd)]\n",
    "# theta_ball = sum(final_list) / float(len(final_list))"
   ]
  },
  {
   "cell_type": "code",
   "execution_count": 3,
   "metadata": {},
   "outputs": [
    {
     "name": "stderr",
     "output_type": "stream",
     "text": [
      "/usr/lib/python2.7/dist-packages/matplotlib/projections/polar.py:65: RuntimeWarning: invalid value encountered in less\n",
      "  mask = r < 0\n"
     ]
    },
    {
     "data": {
      "image/png": "[encoded data removed]",
      "text/plain": [
       "<matplotlib.figure.Figure at 0x7f158c34e290>"
      ]
     },
     "metadata": {},
     "output_type": "display_data"
    }
   ],
   "source": [
    "#Init figure\n",
    "plt.figure(figsize=(10, 10))\n",
    "ax = plt.axes(polar=True)\n",
    "max_val = math.ceil(max(dist_ball, dist_gate,max(np.nan_to_num(ball_np[:,3])),max(gate_dist) ))\n",
    "    \n",
    "#Plot robot\n",
    "ax.plot(0, 0,marker='o',markersize=60)\n",
    "ax.text( s =r'TURTLEBOT',x=0,y=0, horizontalalignment='center',\n",
    "        verticalalignment='center')\n",
    "\n",
    "#PlotGate\n",
    "try:\n",
    "    ax.plot(theta_gate,dist_gate,marker='o',markersize=120)\n",
    "    ax.text( s =r'GATE',x=theta_gate,y=dist_gate, horizontalalignment='center',\n",
    "            verticalalignment='center')\n",
    "except:\n",
    "    pass\n",
    "\n",
    "#PlotBall\n",
    "try:\n",
    "    ax.plot(theta_ball,dist_balls,marker='o',markersize=45)\n",
    "    ax.text( s =r'BALL',x=theta_ball, y=dist_balls, horizontalalignment='center',\n",
    "            verticalalignment='center')\n",
    "except:\n",
    "    pass\n",
    "\n",
    "#Data points of ball\n",
    "try:\n",
    "    y_ball = np.nan_to_num(ball_np[:,3])+np.isnan(ball_np[:,3])*(max_val*0.8)\n",
    "    ax.plot(ball_np[:,2],y_ball,marker='o',markersize=5)\n",
    "except:\n",
    "    pass\n",
    "                    \n",
    "#Data points of gate\n",
    "try:\n",
    "    ax.plot(gate_theta,gate_dist,marker='o',markersize=5)\n",
    "except:\n",
    "    pass\n",
    "\n",
    "ax.set_rmax(max_val)\n",
    "ax.set_rlabel_position(0)  # get radial labels away from plotted line\n",
    "ax.grid(True)\n",
    "\n",
    "ax.set_title(\"Objects around the TURTLEBOT\", va='bottom')\n",
    "xL = [0,0.25,0.5,0.75,1,1.25,1.5,1.75]\n",
    "xL = [round(math.pi*x,2) for x in xL]\n",
    "ax.set_xticklabels(xL, fontdict=None, minor=False)\n",
    "plt.show()"
   ]
  },
  {
   "cell_type": "code",
   "execution_count": 5,
   "metadata": {},
   "outputs": [],
   "source": [
    "#calculate angle and distance to go to he position to kick the ball\n",
    "dist_BT = 0.5\n",
    "ang_GRB = abs(theta_gate - theta_ball)\n",
    "dist_RB = dist_balls\n",
    "dist_RG = dist_gate\n",
    "dist_BG = math.sqrt(pow(dist_RG,2) + pow(dist_RB,2) - 2*dist_RG*dist_RB*math.cos(ang_GRB))\n",
    "ang_GBR = math.acos((pow(dist_BG,2) + pow(dist_RB,2) - pow(dist_RG,2)) / (2*dist_BG*dist_RB))\n",
    "ang_RBT = math.pi - ang_GBR\n",
    "dist_RT = math.sqrt(pow(dist_RB,2) + pow(dist_BT,2) - 2*dist_RB*dist_BT*math.cos(ang_RBT))\n",
    "ang_BRT = math.acos((pow(dist_RB,2) + pow(dist_RT,2) - pow(dist_BT,2)) / (2*dist_RB*dist_RT))\n",
    "ang_BTR = math.acos((pow(dist_BT,2) + pow(dist_RT,2) - pow(dist_RB,2)) / (2*dist_BT*dist_RT))\n",
    "ang_back = math.pi - ang_BTR\n",
    "if theta_ball < theta_gate:\n",
    "    theta_tar = theta_ball - ang_BRT\n",
    "    theta_back = theta_tar + ang_back\n",
    "else:\n",
    "    theta_tar = theta_ball + ang_BRT\n",
    "    theta_back = theta_tar - ang_back\n",
    "if theta_tar < 0:\n",
    "    theta_tar += 2*math.pi\n",
    "if theta_back < 0:\n",
    "    theta_back += 2*math.pi\n"
   ]
  },
  {
   "cell_type": "code",
   "execution_count": 6,
   "metadata": {},
   "outputs": [
    {
     "ename": "KeyboardInterrupt",
     "evalue": "",
     "output_type": "error",
     "traceback": [
      "\u001b[0;31m-----------------------------------------------------------------------\u001b[0m",
      "\u001b[0;31mKeyboardInterrupt\u001b[0m                     Traceback (most recent call last)",
      "\u001b[0;32m<ipython-input-6-fd523a9f4390>\u001b[0m in \u001b[0;36m<module>\u001b[0;34m()\u001b[0m\n\u001b[1;32m      1\u001b[0m \u001b[0;31m#move to the target position\u001b[0m\u001b[0;34m\u001b[0m\u001b[0;34m\u001b[0m\u001b[0m\n\u001b[0;32m----> 2\u001b[0;31m \u001b[0mturnToTheta\u001b[0m\u001b[0;34m(\u001b[0m\u001b[0mtheta_tar\u001b[0m\u001b[0;34m)\u001b[0m\u001b[0;34m\u001b[0m\u001b[0m\n\u001b[0m\u001b[1;32m      3\u001b[0m \u001b[0mmoveForward\u001b[0m\u001b[0;34m(\u001b[0m\u001b[0mdist_RT\u001b[0m\u001b[0;34m)\u001b[0m\u001b[0;34m\u001b[0m\u001b[0m\n\u001b[1;32m      4\u001b[0m \u001b[0;34m\u001b[0m\u001b[0m\n\u001b[1;32m      5\u001b[0m \u001b[0mturnToTheta\u001b[0m\u001b[0;34m(\u001b[0m\u001b[0mtheta_back\u001b[0m\u001b[0;34m)\u001b[0m\u001b[0;34m\u001b[0m\u001b[0m\n",
      "\u001b[0;32m<ipython-input-1-b7d9e79c28f0>\u001b[0m in \u001b[0;36mturnToTheta\u001b[0;34m(theta_tar)\u001b[0m\n\u001b[1;32m     95\u001b[0m     \u001b[0;32mwhile\u001b[0m\u001b[0;34m(\u001b[0m\u001b[0mabs\u001b[0m\u001b[0;34m(\u001b[0m\u001b[0mtheta_tar\u001b[0m\u001b[0;34m-\u001b[0m\u001b[0mtheta\u001b[0m\u001b[0;34m)\u001b[0m \u001b[0;34m>\u001b[0m \u001b[0;36m0.1\u001b[0m\u001b[0;34m)\u001b[0m\u001b[0;34m:\u001b[0m\u001b[0;34m\u001b[0m\u001b[0m\n\u001b[1;32m     96\u001b[0m         \u001b[0mpublisher\u001b[0m\u001b[0;34m.\u001b[0m\u001b[0mpublish\u001b[0m\u001b[0;34m(\u001b[0m\u001b[0mtwist\u001b[0m\u001b[0;34m)\u001b[0m\u001b[0;34m\u001b[0m\u001b[0m\n\u001b[0;32m---> 97\u001b[0;31m         \u001b[0mr\u001b[0m\u001b[0;34m.\u001b[0m\u001b[0msleep\u001b[0m\u001b[0;34m(\u001b[0m\u001b[0;34m)\u001b[0m\u001b[0;34m\u001b[0m\u001b[0m\n\u001b[0m\u001b[1;32m     98\u001b[0m         \u001b[0mang_diff\u001b[0m \u001b[0;34m=\u001b[0m \u001b[0mabs\u001b[0m\u001b[0;34m(\u001b[0m\u001b[0mtheta_tar\u001b[0m \u001b[0;34m-\u001b[0m \u001b[0mtheta\u001b[0m\u001b[0;34m)\u001b[0m\u001b[0;34m\u001b[0m\u001b[0m\n\u001b[1;32m     99\u001b[0m         \u001b[0;32mif\u001b[0m \u001b[0mang_diff\u001b[0m \u001b[0;34m>\u001b[0m \u001b[0mmath\u001b[0m\u001b[0;34m.\u001b[0m\u001b[0mpi\u001b[0m\u001b[0;34m:\u001b[0m\u001b[0;34m\u001b[0m\u001b[0m\n",
      "\u001b[0;32m/opt/ros/kinetic/lib/python2.7/dist-packages/rospy/timer.pyc\u001b[0m in \u001b[0;36msleep\u001b[0;34m(self)\u001b[0m\n\u001b[1;32m     97\u001b[0m         \"\"\"\n\u001b[1;32m     98\u001b[0m         \u001b[0mcurr_time\u001b[0m \u001b[0;34m=\u001b[0m \u001b[0mrospy\u001b[0m\u001b[0;34m.\u001b[0m\u001b[0mrostime\u001b[0m\u001b[0;34m.\u001b[0m\u001b[0mget_rostime\u001b[0m\u001b[0;34m(\u001b[0m\u001b[0;34m)\u001b[0m\u001b[0;34m\u001b[0m\u001b[0m\n\u001b[0;32m---> 99\u001b[0;31m         \u001b[0msleep\u001b[0m\u001b[0;34m(\u001b[0m\u001b[0mself\u001b[0m\u001b[0;34m.\u001b[0m\u001b[0m_remaining\u001b[0m\u001b[0;34m(\u001b[0m\u001b[0mcurr_time\u001b[0m\u001b[0;34m)\u001b[0m\u001b[0;34m)\u001b[0m\u001b[0;34m\u001b[0m\u001b[0m\n\u001b[0m\u001b[1;32m    100\u001b[0m         \u001b[0mself\u001b[0m\u001b[0;34m.\u001b[0m\u001b[0mlast_time\u001b[0m \u001b[0;34m=\u001b[0m \u001b[0mself\u001b[0m\u001b[0;34m.\u001b[0m\u001b[0mlast_time\u001b[0m \u001b[0;34m+\u001b[0m \u001b[0mself\u001b[0m\u001b[0;34m.\u001b[0m\u001b[0msleep_dur\u001b[0m\u001b[0;34m\u001b[0m\u001b[0m\n\u001b[1;32m    101\u001b[0m \u001b[0;34m\u001b[0m\u001b[0m\n",
      "\u001b[0;32m/opt/ros/kinetic/lib/python2.7/dist-packages/rospy/timer.pyc\u001b[0m in \u001b[0;36msleep\u001b[0;34m(duration)\u001b[0m\n\u001b[1;32m    123\u001b[0m             \u001b[0;32mreturn\u001b[0m\u001b[0;34m\u001b[0m\u001b[0m\n\u001b[1;32m    124\u001b[0m         \u001b[0;32melse\u001b[0m\u001b[0;34m:\u001b[0m\u001b[0;34m\u001b[0m\u001b[0m\n\u001b[0;32m--> 125\u001b[0;31m             \u001b[0mrospy\u001b[0m\u001b[0;34m.\u001b[0m\u001b[0mrostime\u001b[0m\u001b[0;34m.\u001b[0m\u001b[0mwallsleep\u001b[0m\u001b[0;34m(\u001b[0m\u001b[0mduration\u001b[0m\u001b[0;34m)\u001b[0m\u001b[0;34m\u001b[0m\u001b[0m\n\u001b[0m\u001b[1;32m    126\u001b[0m     \u001b[0;32melse\u001b[0m\u001b[0;34m:\u001b[0m\u001b[0;34m\u001b[0m\u001b[0m\n\u001b[1;32m    127\u001b[0m         \u001b[0minitial_rostime\u001b[0m \u001b[0;34m=\u001b[0m \u001b[0mrospy\u001b[0m\u001b[0;34m.\u001b[0m\u001b[0mrostime\u001b[0m\u001b[0;34m.\u001b[0m\u001b[0mget_rostime\u001b[0m\u001b[0;34m(\u001b[0m\u001b[0;34m)\u001b[0m\u001b[0;34m\u001b[0m\u001b[0m\n",
      "\u001b[0;32m/opt/ros/kinetic/lib/python2.7/dist-packages/rospy/rostime.pyc\u001b[0m in \u001b[0;36mwallsleep\u001b[0;34m(duration)\u001b[0m\n\u001b[1;32m    275\u001b[0m             \u001b[0;32mpass\u001b[0m\u001b[0;34m\u001b[0m\u001b[0m\n\u001b[1;32m    276\u001b[0m     \u001b[0;32melse\u001b[0m\u001b[0;34m:\u001b[0m\u001b[0;34m\u001b[0m\u001b[0m\n\u001b[0;32m--> 277\u001b[0;31m         \u001b[0mtime\u001b[0m\u001b[0;34m.\u001b[0m\u001b[0msleep\u001b[0m\u001b[0;34m(\u001b[0m\u001b[0mduration\u001b[0m\u001b[0;34m)\u001b[0m\u001b[0;34m\u001b[0m\u001b[0m\n\u001b[0m",
      "\u001b[0;31mKeyboardInterrupt\u001b[0m: "
     ]
    }
   ],
   "source": [
    "#move to the target position\n",
    "turnToTheta(theta_tar)\n",
    "moveForward(dist_RT)\n",
    "\n",
    "turnToTheta(theta_back)\n",
    "\n",
    "#Get gate distance\n",
    "rospy.sleep(0.5)\n",
    "m = marker_array[0]\n",
    "goal_dist = abs(m.pose.pose.position.z)\n",
    "moveForward(goal_dist-0.15) #we stop 15 cm ahead so it wont hit the gate\n",
    "\n"
   ]
  },
  {
   "cell_type": "code",
   "execution_count": 4,
   "metadata": {},
   "outputs": [
    {
     "name": "stdout",
     "output_type": "stream",
     "text": [
      "0.00723290325027 0.440788871232 1.05933002174 1.39832115269\n"
     ]
    }
   ],
   "source": [
    "print theta_ball, theta_gate, dist_balls, dist_gate"
   ]
  },
  {
   "cell_type": "code",
   "execution_count": 7,
   "metadata": {},
   "outputs": [
    {
     "data": {
      "text/plain": [
       "(-0.47883952408216246, 1.235281872111468, 1.0080499932089535)"
      ]
     },
     "execution_count": 7,
     "metadata": {},
     "output_type": "execute_result"
    }
   ],
   "source": [
    "theta_tar, theta_back, dist_RT"
   ]
  },
  {
   "cell_type": "code",
   "execution_count": null,
   "metadata": {},
   "outputs": [],
   "source": [
    "def getAngleDiff():\n",
    "    x_theta = x_ball - img_w/2\n",
    "    y_theta = img_h - y_ball\n",
    "    angle = math.pi/2 - math.atan2(y_theta,x_theta)\n",
    "    return angle"
   ]
  },
  {
   "cell_type": "code",
   "execution_count": 23,
   "metadata": {},
   "outputs": [
    {
     "data": {
      "text/plain": [
       "(4.586972485460963,\n",
       " 5.7081780813691285,\n",
       " 0.76736002266407011,\n",
       " 1.3291634380817414)"
      ]
     },
     "execution_count": 23,
     "metadata": {},
     "output_type": "execute_result"
    }
   ],
   "source": [
    "theta_gate, theta_ball, dist_balls, dist_gate"
   ]
  },
  {
   "cell_type": "code",
   "execution_count": 8,
   "metadata": {},
   "outputs": [
    {
     "data": {
      "text/plain": [
       "(2.243241935483871, 1.0883188247680664)"
      ]
     },
     "execution_count": 8,
     "metadata": {},
     "output_type": "execute_result"
    }
   ],
   "source": [
    "theta_ball, dist_balls"
   ]
  },
  {
   "cell_type": "code",
   "execution_count": 56,
   "metadata": {},
   "outputs": [],
   "source": [
    "#Theta cleanup\n",
    "sd = np.std(gate_theta)\n",
    "mean = np.mean(gate_theta)\n",
    "final_list = [x for x in gate_theta if (x > mean - sd)]\n",
    "final_list = [x for x in final_list if (x < mean +  sd)]\n",
    "theta_gate = np.median(final_list)\n",
    "\n",
    "sd = np.std(gate_dist)\n",
    "mean = np.mean(gate_dist)\n",
    "final_list = [x for x in gate_dist if (x > mean - sd)]\n",
    "final_list = [x for x in final_list if (x < mean +  sd)]\n",
    "dist_gate = np.mean(final_list)"
   ]
  },
  {
   "cell_type": "code",
   "execution_count": 83,
   "metadata": {},
   "outputs": [
    {
     "data": {
      "text/plain": [
       "array([[  16.        ,  361.        ,    1.69      ,           nan],\n",
       "       [  18.        ,  361.        ,    1.701     ,           nan],\n",
       "       [  18.        ,  361.        ,    1.711     ,           nan],\n",
       "       [  20.        ,  359.        ,    1.723     ,           nan],\n",
       "       [  20.        ,  359.        ,    1.726     ,           nan],\n",
       "       [  22.        ,  361.        ,    1.741     ,           nan],\n",
       "       [  22.        ,  361.        ,    1.752     ,           nan],\n",
       "       [  23.        ,  358.        ,    1.762     ,           nan],\n",
       "       [  23.        ,  358.        ,    1.773     ,           nan],\n",
       "       [  25.        ,  358.        ,    1.786     ,           nan],\n",
       "       [  30.        ,  354.        ,    1.792     ,           nan],\n",
       "       [  30.        ,  354.        ,    1.803     ,           nan],\n",
       "       [  32.        ,  355.        ,    1.814     ,           nan],\n",
       "       [  32.        ,  355.        ,    1.824     ,    2.52613044],\n",
       "       [  41.        ,  352.        ,    1.828     ,    1.80698264],\n",
       "       [  41.        ,  352.        ,    1.847     ,    1.83039021],\n",
       "       [  43.        ,  368.        ,    1.856     ,    1.47532642],\n",
       "       [  43.        ,  368.        ,    1.868     ,    1.5857296 ],\n",
       "       [  43.        ,  368.        ,    1.871     ,    1.5857296 ],\n",
       "       [  46.        ,  373.        ,    1.883     ,    1.4927392 ],\n",
       "       [  53.        ,  351.        ,    1.899     ,    1.60979879],\n",
       "       [  53.        ,  351.        ,    1.899     ,    1.67403507],\n",
       "       [  56.        ,  350.        ,    1.91      ,    1.68765152],\n",
       "       [  56.        ,  350.        ,    1.921     ,    1.64251542],\n",
       "       [  58.        ,  350.        ,    1.93      ,    1.65670657],\n",
       "       [  58.        ,  350.        ,    1.941     ,    1.62680817],\n",
       "       [  71.        ,  348.        ,    1.944     ,    1.59533119],\n",
       "       [  71.        ,  348.        ,    1.954     ,    1.63569129],\n",
       "       [  74.        ,  347.        ,    1.965     ,    1.68272805],\n",
       "       [  81.        ,  348.        ,    1.972     ,    1.6802876 ],\n",
       "       [ 100.        ,  344.        ,    1.987     ,    1.65444946],\n",
       "       [ 104.        ,  349.        ,    1.998     ,    1.60798001],\n",
       "       [ 116.        ,  344.        ,    2.01      ,    1.64077675],\n",
       "       [ 116.        ,  344.        ,    2.02      ,    1.68548334],\n",
       "       [ 134.        ,  350.        ,    2.033     ,    1.49931073],\n",
       "       [ 134.        ,  350.        ,    2.036     ,    1.50598288],\n",
       "       [ 139.        ,  348.        ,    2.047     ,    1.56450176],\n",
       "       [ 139.        ,  348.        ,    2.059     ,    1.58954716],\n",
       "       [ 147.        ,  346.        ,    2.064     ,    1.6369108 ],\n",
       "       [ 147.        ,  346.        ,    2.075     ,    1.64799953],\n",
       "       [ 147.        ,  346.        ,    2.09      ,    1.6753577 ],\n",
       "       [ 163.        ,  347.        ,    2.102     ,    1.61606646],\n",
       "       [ 172.        ,  347.        ,    2.116     ,    1.54740262],\n",
       "       [ 172.        ,  347.        ,    2.116     ,    1.60900283],\n",
       "       [ 173.        ,  347.        ,    2.126     ,    1.67995906],\n",
       "       [ 187.        ,  351.        ,    2.138     ,    1.53022373],\n",
       "       [ 187.        ,  351.        ,    2.154     ,    1.57280254],\n",
       "       [ 190.        ,  348.        ,    2.161     ,    1.69189036],\n",
       "       [ 199.        ,  357.        ,    2.175     ,    1.58533454],\n",
       "       [ 199.        ,  357.        ,    2.188     ,    1.60475051],\n",
       "       [ 200.        ,  356.        ,    2.204     ,    1.65999067],\n",
       "       [ 200.        ,  356.        ,    2.22      ,    1.65165544],\n",
       "       [ 213.        ,  356.        ,    2.224     ,    1.64966691],\n",
       "       [ 213.        ,  356.        ,    2.236     ,    1.65295565],\n",
       "       [ 213.        ,  356.        ,    2.252     ,    1.66926444],\n",
       "       [ 219.        ,  355.        ,    2.269     ,    1.70776534],\n",
       "       [ 219.        ,  355.        ,    2.275     ,    1.72864747],\n",
       "       [ 229.        ,  355.        ,    2.297     ,    1.74370134],\n",
       "       [ 229.        ,  355.        ,    2.307     ,    1.74370134],\n",
       "       [ 236.        ,  357.        ,    2.321     ,    1.71782672],\n",
       "       [ 259.        ,  354.        ,    2.321     ,    1.78441453],\n",
       "       [ 259.        ,  354.        ,    2.333     ,    1.7998811 ],\n",
       "       [ 267.        ,  354.        ,    2.351     ,    1.81251228],\n",
       "       [ 267.        ,  354.        ,    2.362     ,    1.7873162 ],\n",
       "       [ 270.        ,  353.        ,    2.374     ,    1.8196032 ],\n",
       "       [ 270.        ,  353.        ,    2.384     ,    1.82815826],\n",
       "       [ 273.        ,  354.        ,    2.384     ,    1.82784796],\n",
       "       [ 283.        ,  354.        ,    2.4       ,    1.8557055 ],\n",
       "       [ 299.        ,  353.        ,    2.411     ,    1.85698211],\n",
       "       [ 299.        ,  353.        ,    2.424     ,    1.87525105],\n",
       "       [ 299.        ,  353.        ,    2.427     ,    1.86032879],\n",
       "       [ 302.        ,  354.        ,    2.437     ,    1.89861917],\n",
       "       [ 302.        ,  354.        ,    2.451     ,    1.89861917],\n",
       "       [ 329.        ,  355.        ,    2.455     ,    1.87154305],\n",
       "       [ 329.        ,  355.        ,    2.468     ,    1.87154305],\n",
       "       [ 334.        ,  355.        ,    2.482     ,    1.8578335 ],\n",
       "       [ 334.        ,  355.        ,    2.493     ,    1.86968911],\n",
       "       [ 347.        ,  359.        ,    2.51      ,    1.76848245],\n",
       "       [ 347.        ,  359.        ,    2.521     ,    1.79250348],\n",
       "       [ 363.        ,  360.        ,    2.534     ,    1.75106251],\n",
       "       [ 363.        ,  360.        ,    2.534     ,    1.74516284],\n",
       "       [ 367.        ,  360.        ,    2.547     ,    1.74888229],\n",
       "       [ 367.        ,  360.        ,    2.564     ,    1.74888229],\n",
       "       [ 377.        ,  360.        ,    2.576     ,    1.71690881],\n",
       "       [ 393.        ,  362.        ,    2.587     ,    1.59900856],\n",
       "       [ 393.        ,  362.        ,    2.598     ,    1.65842342],\n",
       "       [ 403.        ,  360.        ,    2.598     ,    1.63468528],\n",
       "       [ 409.        ,  363.        ,    2.617     ,    1.57325315],\n",
       "       [ 409.        ,  363.        ,    2.63      ,    1.6165843 ],\n",
       "       [ 412.        ,  364.        ,    2.644     ,    1.63670647],\n",
       "       [ 412.        ,  364.        ,    2.647     ,    1.62134123],\n",
       "       [ 416.        ,  363.        ,    2.658     ,    1.62011981],\n",
       "       [ 437.        ,  367.        ,    2.674     ,    1.52144742],\n",
       "       [ 437.        ,  367.        ,    2.686     ,    1.47095382],\n",
       "       [ 441.        ,  367.        ,    2.692     ,    1.51976812],\n",
       "       [ 441.        ,  367.        ,    2.703     ,    1.55316067],\n",
       "       [ 455.        ,  368.        ,    2.716     ,    1.42595947],\n",
       "       [ 474.        ,  371.        ,    2.727     ,    1.35060096],\n",
       "       [ 474.        ,  371.        ,    2.73      ,    1.43354392],\n",
       "       [ 476.        ,  372.        ,    2.75      ,    1.43997478],\n",
       "       [ 484.        ,  373.        ,    2.76      ,    1.40297461],\n",
       "       [ 484.        ,  373.        ,    2.774     ,    1.41683435],\n",
       "       [ 497.        ,  373.        ,    2.778     ,    1.41770685],\n",
       "       [ 501.        ,  374.        ,    2.79      ,    1.40317094],\n",
       "       [ 501.        ,  374.        ,    2.804     ,    1.38823235],\n",
       "       [ 510.        ,  375.        ,    2.804     ,    1.3655889 ],\n",
       "       [ 529.        ,  377.        ,    2.814     ,    1.26472449],\n",
       "       [ 532.        ,  377.        ,    2.826     ,    1.2876296 ],\n",
       "       [ 532.        ,  377.        ,    2.841     ,    1.32841313],\n",
       "       [ 540.        ,  379.        ,    2.846     ,    1.29582787],\n",
       "       [ 563.        ,  381.        ,    2.857     ,    1.25567889],\n",
       "       [ 563.        ,  381.        ,    2.868     ,    1.25244236],\n",
       "       [ 566.        ,  382.        ,    2.878     ,    1.27991474],\n",
       "       [ 566.        ,  382.        ,    2.889     ,    1.27991474],\n",
       "       [ 574.        ,  383.        ,    2.894     ,    1.30687642],\n",
       "       [ 574.        ,  383.        ,    2.905     ,    1.31685638],\n",
       "       [ 576.        ,  383.        ,    2.917     ,    1.30203629],\n",
       "       [ 576.        ,  383.        ,    2.928     ,    1.29802167],\n",
       "       [ 576.        ,  383.        ,    2.94      ,    1.30506563],\n",
       "       [ 584.        ,  386.        ,    2.952     ,    1.26451087],\n",
       "       [ 584.        ,  386.        ,    2.955     ,    1.26451087],\n",
       "       [ 588.        ,  388.        ,    2.965     ,    1.24274361],\n",
       "       [ 590.        ,  388.        ,    2.978     ,    1.24987602],\n",
       "       [ 593.        ,  386.        ,    2.987     ,    1.19494963],\n",
       "       [ 600.        ,  389.        ,    2.998     ,    1.19173598],\n",
       "       [ 602.        ,  389.        ,    3.002     ,    1.24725676],\n",
       "       [ 604.        ,  390.        ,    3.013     ,    1.24008393],\n",
       "       [ 612.        ,  395.        ,    3.025     ,    1.21259105],\n",
       "       [ 615.        ,  395.        ,    3.035     ,    1.21422732],\n",
       "       [ 617.        ,  395.        ,    3.047     ,    1.21995163]])"
      ]
     },
     "execution_count": 83,
     "metadata": {},
     "output_type": "execute_result"
    }
   ],
   "source": [
    "ball_np"
   ]
  },
  {
   "cell_type": "code",
   "execution_count": 3,
   "metadata": {},
   "outputs": [
    {
     "name": "stderr",
     "output_type": "stream",
     "text": [
      "/usr/lib/python2.7/dist-packages/numpy/lib/nanfunctions.py:675: RuntimeWarning: Mean of empty slice\n",
      "  warnings.warn(\"Mean of empty slice\", RuntimeWarning)\n"
     ]
    }
   ],
   "source": [
    "moveForward(1.0)"
   ]
  },
  {
   "cell_type": "code",
   "execution_count": 23,
   "metadata": {},
   "outputs": [],
   "source": [
    "m = marker_array[0]\n",
    "goal_dist = math.sqrt(m.pose.pose.position.z**2 + m.pose.pose.position.x**2)"
   ]
  },
  {
   "cell_type": "code",
   "execution_count": 11,
   "metadata": {},
   "outputs": [],
   "source": [
    "sd = np.std(gate_theta)\n",
    "mean = np.mean(gate_theta)"
   ]
  },
  {
   "cell_type": "code",
   "execution_count": 12,
   "metadata": {},
   "outputs": [
    {
     "data": {
      "text/plain": [
       "(2.8656374659778261, 2.980053571428571)"
      ]
     },
     "execution_count": 12,
     "metadata": {},
     "output_type": "execute_result"
    }
   ],
   "source": [
    "sd, mean"
   ]
  },
  {
   "cell_type": "code",
   "execution_count": 24,
   "metadata": {},
   "outputs": [
    {
     "name": "stdout",
     "output_type": "stream",
     "text": [
      "3.14159265359\n"
     ]
    }
   ],
   "source": [
    "theta = math.pi *2\n",
    "theta_opposite = math.atan2(-math.sin(theta),-math.cos(theta))\n",
    "if theta_opposite < 0:\n",
    "    theta_opposite += 2* math.pi\n",
    "print theta_opposite"
   ]
  },
  {
   "cell_type": "code",
   "execution_count": 39,
   "metadata": {},
   "outputs": [
    {
     "data": {
      "text/plain": [
       "array([ 1.18500006,  1.18500006,  1.18100011,  1.18100011,  1.18900001,\n",
       "        1.19300008,  1.37000012,  1.52900004,  1.80300009,  1.79400003,\n",
       "        1.88200009,  1.73000014,  1.65500009,  1.61600006,  1.55000007,\n",
       "        1.64700007,  1.28700006,  1.28200006,  1.20600009,  1.12600005,\n",
       "        1.18900001,  1.07300007,         nan,         nan,  1.75700009,\n",
       "        1.70400012])"
      ]
     },
     "execution_count": 39,
     "metadata": {},
     "output_type": "execute_result"
    },
    {
     "data": {
      "image/png": "[encoded data removed]",
      "text/plain": [
       "<matplotlib.figure.Figure at 0x7f5522c68b10>"
      ]
     },
     "metadata": {},
     "output_type": "display_data"
    }
   ],
   "source": [
    "ball_np[:,3]"
   ]
  },
  {
   "cell_type": "code",
   "execution_count": 22,
   "metadata": {},
   "outputs": [
    {
     "name": "stdout",
     "output_type": "stream",
     "text": [
      "1.80706506893 0.525000071526\n"
     ]
    }
   ],
   "source": [
    "print dist_gate, dist_balls"
   ]
  },
  {
   "cell_type": "code",
   "execution_count": 40,
   "metadata": {},
   "outputs": [
    {
     "data": {
      "image/png": "[encoded data removed]",
      "text/plain": [
       "<matplotlib.figure.Figure at 0x7f5522c74550>"
      ]
     },
     "metadata": {},
     "output_type": "display_data"
    }
   ],
   "source": [
    "idx = (np.abs(ball_np[:,0]-320)).argmin()\n",
    "ball_pos = ball_np[idx]\n",
    "dist_balls = np.nanmin(ball_np[:,3])  + 0.12"
   ]
  },
  {
   "cell_type": "code",
   "execution_count": 41,
   "metadata": {},
   "outputs": [
    {
     "name": "stdout",
     "output_type": "stream",
     "text": [
      "16\n"
     ]
    }
   ],
   "source": [
    "print idx"
   ]
  },
  {
   "cell_type": "code",
   "execution_count": 42,
   "metadata": {},
   "outputs": [
    {
     "data": {
      "text/plain": [
       "array([ 378.        ,  201.        ,    5.869     ,    1.28700006])"
      ]
     },
     "execution_count": 42,
     "metadata": {},
     "output_type": "execute_result"
    },
    {
     "data": {
      "text/plain": [
       "<matplotlib.figure.Figure at 0x7f55236bff90>"
      ]
     },
     "metadata": {},
     "output_type": "display_data"
    }
   ],
   "source": [
    "ball_np[idx]"
   ]
  },
  {
   "cell_type": "code",
   "execution_count": 43,
   "metadata": {},
   "outputs": [
    {
     "data": {
      "text/plain": [
       "1.1850001"
      ]
     },
     "execution_count": 43,
     "metadata": {},
     "output_type": "execute_result"
    }
   ],
   "source": [
    "dist_ball"
   ]
  },
  {
   "cell_type": "code",
   "execution_count": 44,
   "metadata": {
    "scrolled": true
   },
   "outputs": [
    {
     "data": {
      "text/plain": [
       "array([[  4.03000000e+02,   3.34000000e+02,   4.81800000e+00,\n",
       "          1.18500006e+00],\n",
       "       [  4.03000000e+02,   3.35000000e+02,   4.82900000e+00,\n",
       "          1.18500006e+00],\n",
       "       [  4.03000000e+02,   3.35000000e+02,   4.84400000e+00,\n",
       "          1.18100011e+00],\n",
       "       [  4.04000000e+02,   3.35000000e+02,   4.85800000e+00,\n",
       "          1.18100011e+00],\n",
       "       [  4.04000000e+02,   3.34000000e+02,   4.89000000e+00,\n",
       "          1.18900001e+00],\n",
       "       [  4.13000000e+02,   3.34000000e+02,   4.92100000e+00,\n",
       "          1.19300008e+00],\n",
       "       [  4.19000000e+02,   3.34000000e+02,   4.96600000e+00,\n",
       "          1.37000012e+00],\n",
       "       [  4.30000000e+02,   3.34000000e+02,   5.02400000e+00,\n",
       "          1.52900004e+00],\n",
       "       [  4.47000000e+02,   3.35000000e+02,   5.07900000e+00,\n",
       "          1.80300009e+00],\n",
       "       [  4.69000000e+02,   3.35000000e+02,   5.12600000e+00,\n",
       "          1.79400003e+00],\n",
       "       [  4.78000000e+02,   3.35000000e+02,   5.17000000e+00,\n",
       "          1.88200009e+00],\n",
       "       [  5.02000000e+02,   3.35000000e+02,   5.23600000e+00,\n",
       "          1.73000014e+00],\n",
       "       [  5.33000000e+02,   3.34000000e+02,   5.31100000e+00,\n",
       "          1.65500009e+00],\n",
       "       [  5.66000000e+02,   3.33000000e+02,   5.39000000e+00,\n",
       "          1.61600006e+00],\n",
       "       [  6.01000000e+02,   3.36000000e+02,   5.47600000e+00,\n",
       "          1.55000007e+00],\n",
       "       [  6.18000000e+02,   3.43000000e+02,   5.56800000e+00,\n",
       "          1.64700007e+00],\n",
       "       [  3.78000000e+02,   2.01000000e+02,   5.86900000e+00,\n",
       "          1.28700006e+00],\n",
       "       [  4.22000000e+02,   2.03000000e+02,   5.96300000e+00,\n",
       "          1.28200006e+00],\n",
       "       [  4.27000000e+02,   2.01000000e+02,   6.05700000e+00,\n",
       "          1.20600009e+00],\n",
       "       [  4.27000000e+02,   2.01000000e+02,   6.13300000e+00,\n",
       "          1.12600005e+00],\n",
       "       [  4.74000000e+02,   1.98000000e+02,   6.23400000e+00,\n",
       "          1.18900001e+00],\n",
       "       [  5.68000000e+02,   1.96000000e+02,   3.00000000e-02,\n",
       "          1.07300007e+00],\n",
       "       [  6.28000000e+02,   1.54000000e+02,   1.32000000e-01,\n",
       "                     nan],\n",
       "       [  2.70000000e+01,   3.38000000e+02,   4.47500000e+00,\n",
       "                     nan],\n",
       "       [  6.60000000e+01,   3.43000000e+02,   4.58700000e+00,\n",
       "          1.75700009e+00],\n",
       "       [  1.67000000e+02,   3.40000000e+02,   4.70700000e+00,\n",
       "          1.70400012e+00]])"
      ]
     },
     "execution_count": 44,
     "metadata": {},
     "output_type": "execute_result"
    }
   ],
   "source": [
    "ball_np"
   ]
  },
  {
   "cell_type": "code",
   "execution_count": 72,
   "metadata": {},
   "outputs": [
    {
     "data": {
      "text/plain": [
       "array([        nan,         nan,         nan,  1.39200008,  1.39200008,\n",
       "        1.34800005,  1.29200006,  1.25900006,  1.15700006,  0.90800005,\n",
       "        0.74700004,  0.74900001,  0.73300004,  0.73300004,  0.73400003,\n",
       "        0.73400003,  0.73300004,  0.73000002,  0.73400003,  0.73700005,\n",
       "        0.74500006,  0.75000006,  0.75400001,  0.76200002,  0.76200002,\n",
       "        0.76400006,  0.77100003,  0.77800006,  0.78300005,  0.78300005,\n",
       "        0.78300005,  0.78700006,  0.79000002,  0.79200006,  0.79200006,\n",
       "        0.79200006,  0.79600006,  0.79400003,  0.79400003,  0.79400003,\n",
       "        0.79600006,  0.79400003,  0.79600006,  0.79800004,  0.79800004,\n",
       "        0.79600006,  0.79600006,  0.79600006,  0.79400003,  0.79200006,\n",
       "        0.79200006,  0.79200006,  0.79000002,  0.79000002,  0.78300005,\n",
       "        0.78500003,  0.77400005,  0.77400005,  0.76900005,  0.76600003,\n",
       "        0.76400006,  0.75900006,  0.75400001,  0.74900001,  0.74400002,\n",
       "        0.73600006,  0.73300004,  0.72300005,  0.72200006,  0.72300005,\n",
       "        0.72300005,  0.72200006,  0.71400005,  0.72000003,  0.72800004,\n",
       "        0.72200006,  0.72500002,         nan,         nan,  3.14700007,\n",
       "        3.14700007,  1.44500005,  2.13550019,  1.49600005,  1.5430001 ,\n",
       "        1.50200009,  1.5150001 ,  1.50200009,  1.50900006,  1.50900006,\n",
       "        1.5150001 ,  1.49600005,  1.49600005,  1.50200009,  1.48300004,\n",
       "        1.46400011,  1.47000003])"
      ]
     },
     "execution_count": 72,
     "metadata": {},
     "output_type": "execute_result"
    }
   ],
   "source": [
    "ball_np[:,3]"
   ]
  },
  {
   "cell_type": "code",
   "execution_count": 78,
   "metadata": {},
   "outputs": [],
   "source": [
    "def medfilt (x, k):\n",
    "    \"\"\"Apply a length-k median filter to a 1D array x.\n",
    "    Boundaries are extended by repeating endpoints.\n",
    "    \"\"\"\n",
    "    assert k % 2 == 1, \"Median filter length must be odd.\"\n",
    "    assert x.ndim == 1, \"Input must be one-dimensional.\"\n",
    "    k2 = (k - 1) // 2\n",
    "    y = np.zeros ((len (x), k), dtype=x.dtype)\n",
    "    y[:,k2] = x\n",
    "    for i in range (k2):\n",
    "        j = k2 - i\n",
    "        y[j:,i] = x[:-j]\n",
    "        y[:j,i] = x[0]\n",
    "        y[:-j,-(i+1)] = x[j:]\n",
    "        y[-j:,-(i+1)] = x[-1]\n",
    "    return np.median (y, axis=1)\n"
   ]
  },
  {
   "cell_type": "code",
   "execution_count": 9,
   "metadata": {},
   "outputs": [],
   "source": [
    "#Data cleanup\n",
    "sd = np.std(gate_theta)\n",
    "mean = np.mean(gate_theta)\n",
    "final_list = [x for x in gate_theta if (x > mean - sd)]\n",
    "final_list = [x for x in final_list if (x < mean +  sd)]\n",
    "theta_gate = np.mean(final_list)"
   ]
  },
  {
   "cell_type": "code",
   "execution_count": 10,
   "metadata": {},
   "outputs": [
    {
     "data": {
      "text/plain": [
       "(2.8706697088645492, 3.7938623853211006)"
      ]
     },
     "execution_count": 10,
     "metadata": {},
     "output_type": "execute_result"
    }
   ],
   "source": [
    "sd, mean"
   ]
  },
  {
   "cell_type": "code",
   "execution_count": 25,
   "metadata": {},
   "outputs": [
    {
     "data": {
      "text/plain": [
       "<matplotlib.collections.PathCollection at 0x7f71b4671f50>"
      ]
     },
     "execution_count": 25,
     "metadata": {},
     "output_type": "execute_result"
    },
    {
     "data": {
      "image/png": "[encoded data removed]",
      "text/plain": [
       "<matplotlib.figure.Figure at 0x7f71b46f3b90>"
      ]
     },
     "metadata": {},
     "output_type": "display_data"
    }
   ],
   "source": [
    "x_ = np.cos(gate_theta)\n",
    "y_ = np.sin(gate_theta)\n",
    "plt.scatter(x_,y_)"
   ]
  },
  {
   "cell_type": "code",
   "execution_count": 67,
   "metadata": {},
   "outputs": [
    {
     "data": {
      "text/plain": [
       "0.79400002956390381"
      ]
     },
     "execution_count": 67,
     "metadata": {},
     "output_type": "execute_result"
    }
   ],
   "source": [
    "math.atan2(np.sin(gate_theta),np.cos(gate_theta))"
   ]
  },
  {
   "cell_type": "code",
   "execution_count": 27,
   "metadata": {},
   "outputs": [
    {
     "data": {
      "text/plain": [
       "-0.010463730580320131"
      ]
     },
     "execution_count": 27,
     "metadata": {},
     "output_type": "execute_result"
    }
   ],
   "source": [
    "np.mean(y_)"
   ]
  },
  {
   "cell_type": "code",
   "execution_count": 28,
   "metadata": {},
   "outputs": [
    {
     "data": {
      "text/plain": [
       "0.96793699245065468"
      ]
     },
     "execution_count": 28,
     "metadata": {},
     "output_type": "execute_result"
    }
   ],
   "source": [
    "np.mean(x_)"
   ]
  },
  {
   "cell_type": "code",
   "execution_count": 32,
   "metadata": {},
   "outputs": [
    {
     "data": {
      "text/plain": [
       "-0.010809921597255445"
      ]
     },
     "execution_count": 32,
     "metadata": {},
     "output_type": "execute_result"
    }
   ],
   "source": [
    "math.atan2(np.mean(y_),np.mean(x_))"
   ]
  },
  {
   "cell_type": "code",
   "execution_count": 46,
   "metadata": {},
   "outputs": [],
   "source": [
    "ball_np = np.array(ball_pos)\n",
    "idx = (np.abs(ball_np[:,0]-320)).argmin()\n",
    "dist_balls = ball_np[idx,3] \n",
    "theta_ball = ball_np[idx,2]"
   ]
  },
  {
   "cell_type": "code",
   "execution_count": 48,
   "metadata": {},
   "outputs": [
    {
     "data": {
      "text/plain": [
       "1.1150000095367432"
      ]
     },
     "execution_count": 48,
     "metadata": {},
     "output_type": "execute_result"
    }
   ],
   "source": [
    "dist_balls"
   ]
  },
  {
   "cell_type": "code",
   "execution_count": 50,
   "metadata": {},
   "outputs": [
    {
     "data": {
      "text/plain": [
       "0.97500002384185791"
      ]
     },
     "execution_count": 50,
     "metadata": {},
     "output_type": "execute_result"
    }
   ],
   "source": [
    "np.nanmedian(ball_np[:,3])"
   ]
  },
  {
   "cell_type": "code",
   "execution_count": 52,
   "metadata": {},
   "outputs": [
    {
     "name": "stderr",
     "output_type": "stream",
     "text": [
      "/usr/local/lib/python2.7/dist-packages/ipykernel_launcher.py:1: RuntimeWarning: invalid value encountered in greater\n",
      "  \"\"\"Entry point for launching an IPython kernel.\n"
     ]
    }
   ],
   "source": [
    "ball_np[ball_np > np.nanmedian(ball_np[:,3]) + np.nanstd(ball_np[:,3])] = np.nan"
   ]
  },
  {
   "cell_type": "code",
   "execution_count": 54,
   "metadata": {},
   "outputs": [
    {
     "data": {
      "text/plain": [
       "0.19376852450321411"
      ]
     },
     "execution_count": 54,
     "metadata": {},
     "output_type": "execute_result"
    }
   ],
   "source": [
    "np.nanstd(ball_np[:,3])"
   ]
  },
  {
   "cell_type": "code",
   "execution_count": 67,
   "metadata": {},
   "outputs": [
    {
     "data": {
      "text/plain": [
       "[1.247130036354065,\n",
       " 1.263916015625,\n",
       " 1.2737129926681519,\n",
       " 1.294409990310669,\n",
       " 1.3058608770370483,\n",
       " 1.3170043230056763,\n",
       " 1.3222694396972656,\n",
       " 1.3269312381744385,\n",
       " 1.3417246341705322,\n",
       " 1.3528974056243896,\n",
       " 1.3610481023788452,\n",
       " 1.3755470514297485,\n",
       " 1.3808103799819946,\n",
       " 1.3916137218475342,\n",
       " 1.3995405435562134,\n",
       " 1.4110298156738281,\n",
       " 1.4164297580718994,\n",
       " 1.4138559103012085,\n",
       " 1.4282915592193604,\n",
       " 1.4377223253250122,\n",
       " 1.4369690418243408,\n",
       " 1.43319571018219,\n",
       " 1.445748209953308,\n",
       " 1.4490686655044556,\n",
       " 1.4451444149017334,\n",
       " 1.4618544578552246,\n",
       " 1.462265968322754,\n",
       " 1.459318995475769,\n",
       " 1.4640544652938843,\n",
       " 1.4655325412750244,\n",
       " 1.4656155109405518,\n",
       " 1.4632765054702759,\n",
       " 1.464840292930603,\n",
       " 1.4498155117034912,\n",
       " 1.449373722076416,\n",
       " 1.4460747241973877,\n",
       " 1.4459773302078247,\n",
       " 1.441566824913025,\n",
       " 1.4316027164459229,\n",
       " 1.428537130355835,\n",
       " 1.4285801649093628,\n",
       " 1.4156080484390259,\n",
       " 1.4147891998291016,\n",
       " 1.409936785697937,\n",
       " 1.4015148878097534,\n",
       " 1.3892146348953247,\n",
       " 1.3748425245285034,\n",
       " 1.3635246753692627,\n",
       " 1.3614896535873413,\n",
       " 1.3540806770324707,\n",
       " 1.3453973531723022,\n",
       " 1.321793794631958,\n",
       " 1.318629503250122,\n",
       " 1.3000972270965576,\n",
       " 1.2872511148452759,\n",
       " 1.2804290056228638]"
      ]
     },
     "execution_count": 67,
     "metadata": {},
     "output_type": "execute_result"
    }
   ],
   "source": [
    "gate_dist"
   ]
  },
  {
   "cell_type": "code",
   "execution_count": 94,
   "metadata": {},
   "outputs": [
    {
     "data": {
      "text/plain": [
       "[[288, 95, 3.501, 0.71600002],\n",
       " [291, 96, 3.518, 0.67000002],\n",
       " [297, 95, 3.53, 0.671],\n",
       " [307, 95, 3.544, 0.671],\n",
       " [312, 95, 3.5589999999999997, 0.67500001],\n",
       " [320, 96, 3.5789999999999997, 0.82700002],\n",
       " [330, 96, 3.605, 0.82700002],\n",
       " [376, 99, 4.391, 0.74400002],\n",
       " [435, 98, 4.518, 0.74100006],\n",
       " [28, 310, 5.146, nan],\n",
       " [32, 309, 5.1579999999999995, nan],\n",
       " [38, 311, 5.173, nan],\n",
       " [41, 311, 5.185, nan],\n",
       " [45, 310, 5.215, nan],\n",
       " [45, 310, 5.226, nan],\n",
       " [69, 309, 5.254, 0.54900002],\n",
       " [86, 309, 5.27, 0.551],\n",
       " [89, 309, 5.289, 0.55400002],\n",
       " [100, 308, 5.304, 0.55800003],\n",
       " [105, 308, 5.324, 0.56200004],\n",
       " [113, 307, 5.351, 0.56400001],\n",
       " [125, 307, 5.375, 0.56800002],\n",
       " [136, 307, 5.391, 0.574],\n",
       " [139, 307, 5.406, 0.57800001],\n",
       " [150, 307, 5.4239999999999995, 0.57800001],\n",
       " [159, 306, 5.436999999999999, 0.583],\n",
       " [170, 306, 5.474, 0.58700001],\n",
       " [182, 105, 5.9559999999999995, 5.4540005],\n",
       " [197, 121, 5.973, 5.5430002],\n",
       " [205, 128, 5.986, 5.5430002],\n",
       " [214, 181, 6.0009999999999994, 5.927],\n",
       " [217, 182, 6.0249999999999995, 5.927],\n",
       " [228, 182, 6.042, 5.927],\n",
       " [240, 191, 6.064, 5.927],\n",
       " [253, 199, 6.075, 6.0310001],\n",
       " [266, 196, 6.0889999999999995, 6.0310001],\n",
       " [274, 204, 6.107, 6.0310001],\n",
       " [281, 194, 6.133, 6.0310001],\n",
       " [30, 328, 6.147, 2.332],\n",
       " [34, 329, 6.1579999999999995, 3.3765001],\n",
       " [36, 329, 6.169, 1.087],\n",
       " [38, 327, 6.194, 1.057],\n",
       " [45, 327, 6.202999999999999, 1.0630001],\n",
       " [48, 326, 6.21, 1.0660001],\n",
       " [51, 324, 6.223, 1.0660001],\n",
       " [57, 325, 6.242999999999999, 1.0700001],\n",
       " [67, 324, 6.252, 1.077],\n",
       " [77, 322, 6.265, 1.077],\n",
       " [82, 321, 6.279, 1.077],\n",
       " [90, 320, 0.005, 1.08],\n",
       " [105, 320, 0.02, 1.09],\n",
       " [114, 318, 0.028, 1.0940001],\n",
       " [121, 319, 0.049, 1.097],\n",
       " [125, 319, 0.063, 1.1120001],\n",
       " [143, 318, 0.08, 1.115],\n",
       " [151, 317, 0.098, 1.1220001],\n",
       " [154, 317, 0.108, 1.126],\n",
       " [159, 317, 0.12, 1.13],\n",
       " [170, 317, 0.152, 1.1340001],\n",
       " [175, 318, 0.168, 1.1340001],\n",
       " [180, 316, 0.207, 1.1370001],\n",
       " [216, 316, 0.222, 1.161],\n",
       " [228, 313, 0.254, 1.1810001],\n",
       " [234, 314, 0.276, 1.1810001],\n",
       " [246, 315, 0.287, 1.2010001],\n",
       " [254, 315, 0.308, 1.7130001],\n",
       " [271, 314, 0.321, 1.7300001],\n",
       " [274, 315, 0.339, 1.7300001],\n",
       " [283, 315, 0.349, 1.7750001],\n",
       " [286, 315, 0.363, 1.189],\n",
       " [295, 315, 0.374, 1.1930001],\n",
       " [295, 315, 0.397, 1.1730001],\n",
       " [310, 315, 0.408, 1.1850001],\n",
       " [310, 315, 0.419, 1.1730001],\n",
       " [325, 315, 0.431, 1.1850001],\n",
       " [332, 314, 0.456, 1.1810001],\n",
       " [338, 315, 0.459, 1.1810001],\n",
       " [338, 315, 0.482, 1.1730001],\n",
       " [352, 315, 0.494, 1.189],\n",
       " [359, 316, 0.511, 1.197],\n",
       " [369, 317, 0.523, 1.2010001],\n",
       " [375, 316, 0.536, 1.189],\n",
       " [375, 316, 0.558, 1.1680001],\n",
       " [389, 318, 0.573, 1.1810001],\n",
       " [398, 317, 0.588, 1.1680001],\n",
       " [398, 317, 0.612, 1.1650001],\n",
       " [401, 318, 0.615, 1.161],\n",
       " [401, 318, 0.638, 1.153],\n",
       " [417, 333, 0.65, 1.149],\n",
       " [428, 334, 0.663, 1.1370001],\n",
       " [428, 334, 0.684, 1.1370001],\n",
       " [445, 336, 0.695, 1.126],\n",
       " [445, 336, 0.705, 1.126],\n",
       " [467, 338, 0.722, 1.1190001],\n",
       " [467, 338, 0.744, 1.1120001],\n",
       " [467, 338, 0.755, 1.1120001],\n",
       " [488, 339, 0.77, 1.1010001],\n",
       " [488, 339, 0.78, 1.097],\n",
       " [488, 339, 0.79, 1.097],\n",
       " [488, 339, 0.816, 1.1040001],\n",
       " [518, 341, 0.827, 1.077],\n",
       " [522, 344, 0.831, 1.0700001],\n",
       " [530, 345, 0.843, 1.0660001],\n",
       " [530, 345, 0.851, 1.0630001],\n",
       " [542, 345, 0.872, 1.0530001],\n",
       " [547, 343, 0.891, 1.0500001],\n",
       " [559, 346, 0.905, 1.0370001],\n",
       " [573, 348, 0.929, 1.031],\n",
       " [581, 348, 0.942, 1.028],\n",
       " [588, 348, 0.957, 1.028],\n",
       " [590, 349, 0.97, 1.028],\n",
       " [594, 350, 0.996, 1.031],\n",
       " [600, 350, 1.004, 1.0370001],\n",
       " [602, 351, 1.028, 1.057],\n",
       " [605, 351, 1.045, 1.2540001],\n",
       " [608, 352, 1.056, 1.2920001],\n",
       " [613, 352, 1.076, 1.3750001],\n",
       " [623, 354, 1.09, 1.2920001],\n",
       " [626, 354, 1.1, nan]]"
      ]
     },
     "execution_count": 94,
     "metadata": {},
     "output_type": "execute_result"
    }
   ],
   "source": [
    "ball_pos"
   ]
  },
  {
   "cell_type": "code",
   "execution_count": 95,
   "metadata": {},
   "outputs": [
    {
     "data": {
      "text/plain": [
       "array([  3.50100000e+00,   3.51800000e+00,   3.53000000e+00,\n",
       "         3.54400000e+00,   3.55900000e+00,   3.57900000e+00,\n",
       "         3.60500000e+00,   4.39100000e+00,   4.51800000e+00,\n",
       "         5.14600000e+00,   5.15800000e+00,   5.17300000e+00,\n",
       "         5.18500000e+00,   5.21500000e+00,   5.22600000e+00,\n",
       "         5.25400000e+00,   5.27000000e+00,   5.28900000e+00,\n",
       "         5.30400000e+00,   5.32400000e+00,   5.35100000e+00,\n",
       "         5.37500000e+00,   5.39100000e+00,   5.40600000e+00,\n",
       "         5.42400000e+00,   5.43700000e+00,   5.47400000e+00,\n",
       "         5.95600000e+00,   5.97300000e+00,   5.98600000e+00,\n",
       "         6.00100000e+00,   6.02500000e+00,   6.04200000e+00,\n",
       "         6.06400000e+00,   6.07500000e+00,   6.08900000e+00,\n",
       "         6.10700000e+00,   6.13300000e+00,   6.14700000e+00,\n",
       "         6.15800000e+00,   6.16900000e+00,   6.19400000e+00,\n",
       "         6.20300000e+00,   6.21000000e+00,   6.22300000e+00,\n",
       "         6.24300000e+00,   6.25200000e+00,   6.26500000e+00,\n",
       "         6.27900000e+00,   5.00000000e-03,   2.00000000e-02,\n",
       "         2.80000000e-02,   4.90000000e-02,   6.30000000e-02,\n",
       "         8.00000000e-02,   9.80000000e-02,   1.08000000e-01,\n",
       "         1.20000000e-01,   1.52000000e-01,   1.68000000e-01,\n",
       "         2.07000000e-01,   2.22000000e-01,   2.54000000e-01,\n",
       "         2.76000000e-01,   2.87000000e-01,   3.08000000e-01,\n",
       "         3.21000000e-01,   3.39000000e-01,   3.49000000e-01,\n",
       "         3.63000000e-01,   3.74000000e-01,   3.97000000e-01,\n",
       "         4.08000000e-01,   4.19000000e-01,   4.31000000e-01,\n",
       "         4.56000000e-01,   4.59000000e-01,   4.82000000e-01,\n",
       "         4.94000000e-01,   5.11000000e-01,   5.23000000e-01,\n",
       "         5.36000000e-01,   5.58000000e-01,   5.73000000e-01,\n",
       "         5.88000000e-01,   6.12000000e-01,   6.15000000e-01,\n",
       "         6.38000000e-01,   6.50000000e-01,   6.63000000e-01,\n",
       "         6.84000000e-01,   6.95000000e-01,   7.05000000e-01,\n",
       "         7.22000000e-01,   7.44000000e-01,   7.55000000e-01,\n",
       "         7.70000000e-01,   7.80000000e-01,   7.90000000e-01,\n",
       "         8.16000000e-01,   8.27000000e-01,   8.31000000e-01,\n",
       "         8.43000000e-01,   8.51000000e-01,   8.72000000e-01,\n",
       "         8.91000000e-01,   9.05000000e-01,   9.29000000e-01,\n",
       "         9.42000000e-01,   9.57000000e-01,   9.70000000e-01,\n",
       "         9.96000000e-01,   1.00400000e+00,   1.02800000e+00,\n",
       "         1.04500000e+00,   1.05600000e+00,   1.07600000e+00,\n",
       "         1.09000000e+00,   1.10000000e+00])"
      ]
     },
     "execution_count": 95,
     "metadata": {},
     "output_type": "execute_result"
    }
   ],
   "source": [
    "ball_theta"
   ]
  },
  {
   "cell_type": "code",
   "execution_count": 102,
   "metadata": {},
   "outputs": [
    {
     "name": "stdout",
     "output_type": "stream",
     "text": [
      "[[  3.59000000e+02   3.81000000e+02   6.72000000e-01   7.60000050e-01]\n",
      " [  3.67000000e+02   3.81000000e+02   6.88000000e-01   7.60000050e-01]\n",
      " [  3.74000000e+02   3.82000000e+02   7.05000000e-01   7.60000050e-01]\n",
      " [  3.83000000e+02   3.82000000e+02   7.24000000e-01   7.60000050e-01]\n",
      " [  3.91000000e+02   3.83000000e+02   7.42000000e-01   7.60000050e-01]\n",
      " [  4.03000000e+02   3.84000000e+02   7.68000000e-01   7.59000063e-01]\n",
      " [  4.11000000e+02   3.86000000e+02   7.85000000e-01   7.57000029e-01]\n",
      " [  4.21000000e+02   3.87000000e+02   8.01000000e-01   7.55000055e-01]\n",
      " [  4.31000000e+02   3.88000000e+02   8.12000000e-01   7.54000008e-01]\n",
      " [  4.38000000e+02   3.90000000e+02   8.44000000e-01   7.52000034e-01]\n",
      " [  4.61000000e+02   3.88000000e+02   8.63000000e-01   7.54000008e-01]\n",
      " [  4.64000000e+02   3.87000000e+02   8.83000000e-01   7.49000013e-01]\n",
      " [  4.79000000e+02   3.88000000e+02   8.99000000e-01   7.49000013e-01]\n",
      " [  4.82000000e+02   3.93000000e+02   9.15000000e-01   7.36000061e-01]\n",
      " [  4.95000000e+02   3.89000000e+02   9.25000000e-01   7.30000019e-01]\n",
      " [  5.03000000e+02   3.88000000e+02   9.52000000e-01   7.26000011e-01]\n",
      " [  5.11000000e+02   3.96000000e+02   9.71000000e-01   7.19000041e-01]\n",
      " [  5.28000000e+02   3.94000000e+02   9.90000000e-01   7.16000021e-01]\n",
      " [  5.36000000e+02   3.99000000e+02   1.00300000e+00   7.10000038e-01]\n",
      " [  5.40000000e+02   3.99000000e+02   1.02200000e+00   7.00000048e-01]\n",
      " [  5.45000000e+02   4.00000000e+02   1.03600000e+00   6.93000019e-01]\n",
      " [  5.59000000e+02   4.02000000e+02   1.05500000e+00   6.88000023e-01]\n",
      " [  5.64000000e+02   4.04000000e+02   1.06400000e+00   6.84000015e-01]\n",
      " [  5.68000000e+02   4.00000000e+02   1.07600000e+00   6.86000049e-01]\n",
      " [  5.70000000e+02   4.00000000e+02   1.08800000e+00   6.84000015e-01]\n",
      " [  5.76000000e+02   4.02000000e+02   1.10600000e+00   6.79000020e-01]\n",
      " [  5.78000000e+02   4.03000000e+02   1.13500000e+00   6.77000046e-01]\n",
      " [  5.84000000e+02   4.04000000e+02   1.14900000e+00   6.77000046e-01]\n",
      " [  5.90000000e+02   4.07000000e+02   1.17400000e+00   6.77000046e-01]\n",
      " [  5.94000000e+02   4.07000000e+02   1.19400000e+00   6.91000044e-01]\n",
      " [  6.01000000e+02   4.06000000e+02   1.20800000e+00   7.03000009e-01]\n",
      " [  6.05000000e+02   4.07000000e+02   1.23000000e+00   7.10000038e-01]\n",
      " [  6.08000000e+02   4.04000000e+02   1.24400000e+00   7.19000041e-01]\n",
      " [  6.12000000e+02   4.05000000e+02   1.27700000e+00   8.53000045e-01]\n",
      " [  6.18000000e+02   4.08000000e+02   1.29000000e+00   1.05000007e+00]\n",
      " [  6.28000000e+02   4.05000000e+02   1.30600000e+00              nan]\n",
      " [  1.41000000e+02   3.83000000e+02   3.60300000e+00   9.56000030e-01]\n",
      " [  1.52000000e+02   3.82000000e+02   3.61300000e+00   9.61000025e-01]\n",
      " [  1.58000000e+02   3.83000000e+02   3.64100000e+00   9.64000046e-01]\n",
      " [  1.61000000e+02   3.86000000e+02   3.65900000e+00   9.70000029e-01]\n",
      " [  1.79000000e+02   3.80000000e+02   3.66900000e+00   9.75000024e-01]\n",
      " [  1.85000000e+02   3.80000000e+02   3.68300000e+00   9.78000045e-01]\n",
      " [  1.88000000e+02   3.83000000e+02   3.70900000e+00   9.78000045e-01]\n",
      " [  1.94000000e+02   3.82000000e+02   3.72500000e+00   9.84000027e-01]\n",
      " [  2.09000000e+02   3.80000000e+02   3.75800000e+00   9.89000022e-01]\n",
      " [  2.16000000e+02   3.79000000e+02   3.77900000e+00   9.92000043e-01]\n",
      " [  2.24000000e+02   3.79000000e+02   3.79200000e+00   9.92000043e-01]\n",
      " [  2.34000000e+02   3.79000000e+02   3.81300000e+00   9.98000026e-01]\n",
      " [  2.43000000e+02   3.78000000e+02   3.82600000e+00   1.00100005e+00]\n",
      " [  2.55000000e+02   3.80000000e+02   3.83800000e+00   1.00100005e+00]\n",
      " [  2.58000000e+02   3.74000000e+02   3.85100000e+00   1.00400007e+00]\n",
      " [  2.69000000e+02   3.77000000e+02   3.87200000e+00   1.00700009e+00]\n",
      " [  2.75000000e+02   3.76000000e+02   3.88700000e+00   1.00700009e+00]\n",
      " [  2.82000000e+02   3.76000000e+02   3.89700000e+00   1.00700009e+00]\n",
      " [  2.86000000e+02   3.75000000e+02   3.91400000e+00   1.00700009e+00]\n",
      " [  2.95000000e+02   3.75000000e+02   3.92700000e+00   1.00999999e+00]\n",
      " [  3.04000000e+02   3.71000000e+02   3.94100000e+00   1.00999999e+00]\n",
      " [  3.08000000e+02   3.71000000e+02   3.95200000e+00   1.00999999e+00]\n",
      " [  3.11000000e+02   3.65000000e+02   3.97100000e+00   1.00999999e+00]\n",
      " [  3.21000000e+02   3.69000000e+02   3.98100000e+00   1.00999999e+00]\n",
      " [  3.38000000e+02   3.68000000e+02   4.00100000e+00   1.01300001e+00]\n",
      " [  3.37000000e+02   3.69000000e+02   4.02400000e+00   1.01300001e+00]\n",
      " [  3.53000000e+02   3.68000000e+02   4.03800000e+00   1.01300001e+00]\n",
      " [  3.50000000e+02   3.70000000e+02   4.05700000e+00   1.00999999e+00]\n",
      " [  3.20000000e+01   1.54000000e+02   4.10700000e+00              nan]\n",
      " [  4.00000000e+01   1.54000000e+02   4.12900000e+00              nan]\n",
      " [  4.10000000e+01   1.57000000e+02   4.14000000e+00              nan]\n",
      " [  5.00000000e+01   1.56000000e+02   4.15600000e+00              nan]\n",
      " [  5.20000000e+01   1.58000000e+02   4.17000000e+00              nan]\n",
      " [  5.60000000e+01   1.59000000e+02   4.18600000e+00              nan]\n",
      " [  8.90000000e+01   1.53000000e+02   4.19900000e+00   7.00000048e-01]\n",
      " [  4.70000000e+01   1.67000000e+02   4.22600000e+00              nan]\n",
      " [  7.60000000e+01   1.67000000e+02   4.23900000e+00   1.10400009e+00]\n",
      " [  1.03000000e+02   1.58000000e+02   4.25100000e+00   9.86000061e-01]\n",
      " [  8.40000000e+01   1.65000000e+02   4.27400000e+00   1.01300001e+00]\n",
      " [  8.70000000e+01   1.67000000e+02   4.28400000e+00   9.98000026e-01]\n",
      " [  8.90000000e+01   1.72000000e+02   4.30600000e+00   1.53600001e+00]\n",
      " [  9.60000000e+01   1.70000000e+02   4.34200000e+00   1.04000008e+00]\n",
      " [  1.04000000e+02   1.74000000e+02   4.34800000e+00   1.28700006e+00]\n",
      " [  1.07000000e+02   1.74000000e+02   4.36800000e+00   1.19300008e+00]\n",
      " [  1.13000000e+02   1.74000000e+02   4.38500000e+00   1.21000004e+00]\n",
      " [  1.17000000e+02   1.75000000e+02   4.40500000e+00   1.28950000e+00]\n",
      " [  1.31000000e+02   1.76000000e+02   4.42800000e+00   1.36700010e+00]\n",
      " [  1.45000000e+02   1.76000000e+02   4.45300000e+00   1.25400007e+00]\n",
      " [  1.48000000e+02   1.78000000e+02   4.46900000e+00   1.49600005e+00]\n",
      " [  1.57000000e+02   1.77000000e+02   4.48600000e+00   1.55000007e+00]\n",
      " [  1.62000000e+02   1.75000000e+02   4.51300000e+00   1.62300003e+00]\n",
      " [  1.75000000e+02   1.79000000e+02   4.52600000e+00   1.60100007e+00]\n",
      " [  1.86000000e+02   1.78000000e+02   4.54400000e+00   1.50200009e+00]\n",
      " [  1.89000000e+02   1.77000000e+02   4.56400000e+00   1.47600007e+00]\n",
      " [  1.95000000e+02   1.80000000e+02   4.57500000e+00   1.47600007e+00]\n",
      " [  2.01000000e+02   1.78000000e+02   4.59600000e+00   1.39200008e+00]\n",
      " [  2.05000000e+02   1.78000000e+02   4.60600000e+00   1.32700002e+00]\n",
      " [  2.18000000e+02   1.81000000e+02   4.62400000e+00   1.25650001e+00]\n",
      " [  2.29000000e+02   1.82000000e+02   4.63800000e+00   1.16500008e+00]\n",
      " [  2.33000000e+02   1.80000000e+02   4.66300000e+00   1.19700003e+00]\n",
      " [  2.42000000e+02   1.81000000e+02   4.67400000e+00   1.15300000e+00]\n",
      " [  2.44000000e+02   1.81000000e+02   4.68900000e+00   1.08000004e+00]\n",
      " [  2.50000000e+02   1.80000000e+02   4.70100000e+00   1.11200011e+00]\n",
      " [  2.55000000e+02   1.82000000e+02   4.71300000e+00   1.08850002e+00]\n",
      " [  2.57000000e+02   1.83000000e+02   4.73200000e+00   1.09549999e+00]\n",
      " [  2.76000000e+02   1.83000000e+02   4.75300000e+00   1.16500008e+00]\n",
      " [  2.79000000e+02   1.81000000e+02   4.76600000e+00   1.15700006e+00]\n",
      " [  2.87000000e+02   1.84000000e+02   4.78500000e+00   1.11900008e+00]\n",
      " [  2.97000000e+02   1.81000000e+02   4.79900000e+00   1.12600005e+00]\n",
      " [  3.01000000e+02   1.83000000e+02   4.82300000e+00   1.13000000e+00]\n",
      " [  3.05000000e+02   1.81000000e+02   4.83800000e+00   1.16500008e+00]\n",
      " [  3.14000000e+02   1.81000000e+02   4.85700000e+00   1.13700008e+00]\n",
      " [  3.33000000e+02   1.83000000e+02   4.89000000e+00   1.00999999e+00]\n",
      " [  3.37000000e+02   1.83000000e+02   4.90800000e+00   1.01300001e+00]\n",
      " [  3.42000000e+02   1.82000000e+02   4.92300000e+00   1.00100005e+00]\n",
      " [  3.48000000e+02   1.82000000e+02   4.92600000e+00   9.75000024e-01]\n",
      " [  3.57000000e+02   1.80000000e+02   4.94700000e+00   9.86000061e-01]\n",
      " [  3.63000000e+02   1.83000000e+02   4.97200000e+00   1.04000008e+00]\n",
      " [  3.73000000e+02   1.81000000e+02   4.98600000e+00   1.10100007e+00]\n",
      " [  3.81000000e+02   1.79000000e+02   5.01000000e+00   1.13000000e+00]\n",
      " [  3.91000000e+02   1.80000000e+02   5.02800000e+00   1.17500007e+00]\n",
      " [  3.98000000e+02   1.79000000e+02   5.03900000e+00   1.22300005e+00]\n",
      " [  4.06000000e+02   1.80000000e+02   5.06800000e+00   1.21200013e+00]\n",
      " [  4.14000000e+02   1.81000000e+02   5.08000000e+00   1.16800010e+00]\n",
      " [  4.21000000e+02   1.79000000e+02   5.09500000e+00   1.11900008e+00]\n",
      " [  4.24000000e+02   1.80000000e+02   5.11900000e+00   1.16100001e+00]\n",
      " [  4.37000000e+02   1.79000000e+02   5.14800000e+00   1.11500001e+00]\n",
      " [  4.49000000e+02   1.80000000e+02   5.15300000e+00   1.13700008e+00]\n",
      " [  4.24000000e+02   1.86000000e+02   5.17400000e+00   1.13400006e+00]\n",
      " [  4.33000000e+02   1.86000000e+02   5.18900000e+00   1.42700005e+00]\n",
      " [  4.41000000e+02   1.86000000e+02   5.22000000e+00   1.13700008e+00]\n",
      " [  4.48000000e+02   1.86000000e+02   5.23300000e+00   1.28700006e+00]\n",
      " [  4.55000000e+02   1.86000000e+02   5.24700000e+00   1.14500010e+00]\n",
      " [  4.58000000e+02   1.86000000e+02   5.26100000e+00   1.25000000e+00]\n",
      " [  4.62000000e+02   1.87000000e+02   5.28600000e+00   1.34300005e+00]\n",
      " [  4.76000000e+02   1.87000000e+02   5.30200000e+00   1.11500001e+00]\n",
      " [  4.79000000e+02   1.88000000e+02   5.31500000e+00   1.17300010e+00]\n",
      " [  4.84000000e+02   1.88000000e+02   5.32700000e+00   1.09400010e+00]\n",
      " [  4.84000000e+02   1.88000000e+02   5.34100000e+00   1.25000000e+00]\n",
      " [  1.60000000e+02   9.80000000e+01   5.82300000e+00   5.05200005e+00]\n",
      " [  1.66000000e+02   9.60000000e+01   5.84100000e+00   5.05200005e+00]\n",
      " [  1.77000000e+02   1.04000000e+02   5.85200000e+00   5.12700033e+00]\n",
      " [  1.97000000e+02   1.07000000e+02   5.86500000e+00   5.12700033e+00]\n",
      " [  2.10000000e+02   1.20000000e+02   5.88500000e+00   5.20500040e+00]\n",
      " [  2.12000000e+02   1.25000000e+02   5.90700000e+00   5.20500040e+00]\n",
      " [  2.25000000e+02   1.80000000e+02   5.92400000e+00   5.45400047e+00]\n",
      " [  2.36000000e+02   1.83000000e+02   5.93900000e+00   5.54300022e+00]\n",
      " [  2.45000000e+02   1.89000000e+02   5.94900000e+00   5.54300022e+00]\n",
      " [  2.52000000e+02   1.93000000e+02   5.97400000e+00   5.54300022e+00]\n",
      " [  2.60000000e+02   1.90000000e+02   5.99100000e+00   5.54300022e+00]\n",
      " [  2.64000000e+02   1.91000000e+02   6.00200000e+00   5.54300022e+00]\n",
      " [  2.59000000e+02   1.98000000e+02   6.02400000e+00   5.54300022e+00]\n",
      " [  2.66000000e+02   1.96000000e+02   6.03900000e+00   5.54300022e+00]\n",
      " [  1.70000000e+01   3.78000000e+02   6.21200000e+00              nan]\n",
      " [  2.30000000e+01   3.71000000e+02   6.22900000e+00              nan]\n",
      " [  3.10000000e+01   3.69000000e+02   6.24300000e+00   1.67900014e+00]\n",
      " [  3.10000000e+01   3.69000000e+02   6.25700000e+00   1.70400012e+00]\n",
      " [  3.70000000e+01   3.68000000e+02   6.27100000e+00   1.71300006e+00]\n",
      " [  4.10000000e+01   3.66000000e+02   6.29400000e+00   1.73000014e+00]\n",
      " [  4.60000000e+01   3.64000000e+02   9.00000000e-03   1.74800003e+00]\n",
      " [  4.80000000e+01   3.64000000e+02   2.20000000e-02   1.74800003e+00]\n",
      " [  5.50000000e+01   3.62000000e+02   4.00000000e-02   7.25000024e-01]\n",
      " [  5.90000000e+01   3.61000000e+02   5.00000000e-02   7.16000021e-01]\n",
      " [  6.50000000e+01   3.60000000e+02   6.60000000e-02   7.22000062e-01]\n",
      " [  6.70000000e+01   3.59000000e+02   9.20000000e-02   7.10000038e-01]\n",
      " [  7.30000000e+01   3.59000000e+02   1.03000000e-01   7.16000021e-01]\n",
      " [  7.50000000e+01   3.60000000e+02   1.19000000e-01   7.01000035e-01]\n",
      " [  8.50000000e+01   3.58000000e+02   1.28000000e-01   7.05000043e-01]\n",
      " [  9.80000000e+01   3.56000000e+02   1.45000000e-01   7.11000025e-01]\n",
      " [  1.06000000e+02   3.56000000e+02   1.75000000e-01   7.11000025e-01]\n",
      " [  1.16000000e+02   3.55000000e+02   1.87000000e-01   7.16000021e-01]\n",
      " [  1.22000000e+02   3.55000000e+02   2.00000000e-01   7.17000008e-01]\n",
      " [  1.31000000e+02   3.55000000e+02   2.09000000e-01   7.19000041e-01]\n",
      " [  1.43000000e+02   3.55000000e+02   2.26000000e-01   7.25000024e-01]\n",
      " [  1.48000000e+02   3.55000000e+02   2.50000000e-01   7.28000045e-01]\n",
      " [  1.62000000e+02   3.54000000e+02   2.62000000e-01   7.34000027e-01]\n",
      " [  1.62000000e+02   3.54000000e+02   2.83000000e-01   7.34000027e-01]\n",
      " [  1.74000000e+02   3.55000000e+02   3.00000000e-01   7.37000048e-01]\n",
      " [  1.78000000e+02   3.53000000e+02   3.13000000e-01   7.44000018e-01]\n",
      " [  1.89000000e+02   3.54000000e+02   3.28000000e-01   7.45000064e-01]\n",
      " [  2.03000000e+02   3.53000000e+02   3.52000000e-01   7.47000039e-01]\n",
      " [  2.12000000e+02   3.54000000e+02   3.63000000e-01   7.50000060e-01]\n",
      " [  2.24000000e+02   3.54000000e+02   3.89000000e-01   7.52000034e-01]\n",
      " [  2.33000000e+02   3.54000000e+02   4.21000000e-01   7.54000008e-01]\n",
      " [  2.37000000e+02   3.53000000e+02   4.30000000e-01   7.55000055e-01]\n",
      " [  2.45000000e+02   3.54000000e+02   4.43000000e-01   7.55000055e-01]\n",
      " [  2.55000000e+02   3.57000000e+02   4.72000000e-01   7.57000029e-01]\n",
      " [  2.70000000e+02   3.59000000e+02   4.88000000e-01   7.59000063e-01]\n",
      " [  2.78000000e+02   3.57000000e+02   5.08000000e-01   7.60000050e-01]\n",
      " [  2.87000000e+02   3.57000000e+02   5.20000000e-01   7.60000050e-01]\n",
      " [  2.87000000e+02   3.57000000e+02   5.36000000e-01   7.60000050e-01]\n",
      " [  2.97000000e+02   3.61000000e+02   5.48000000e-01   7.60000050e-01]\n",
      " [  3.11000000e+02   3.61000000e+02   5.67000000e-01   7.60000050e-01]]\n"
     ]
    }
   ],
   "source": [
    "print ball_np"
   ]
  },
  {
   "cell_type": "code",
   "execution_count": 103,
   "metadata": {},
   "outputs": [
    {
     "name": "stdout",
     "output_type": "stream",
     "text": [
      "[[  3.59000000e+02   3.81000000e+02   6.72000000e-01   7.60000050e-01]\n",
      " [  3.67000000e+02   3.81000000e+02   6.88000000e-01   7.60000050e-01]\n",
      " [  3.74000000e+02   3.82000000e+02   7.05000000e-01   7.60000050e-01]\n",
      " [  3.83000000e+02   3.82000000e+02   7.24000000e-01   7.60000050e-01]\n",
      " [  3.91000000e+02   3.83000000e+02   7.42000000e-01   7.60000050e-01]\n",
      " [  4.03000000e+02   3.84000000e+02   7.68000000e-01   7.59000063e-01]\n",
      " [  4.11000000e+02   3.86000000e+02   7.85000000e-01   7.57000029e-01]\n",
      " [  4.21000000e+02   3.87000000e+02   8.01000000e-01   7.55000055e-01]\n",
      " [  4.31000000e+02   3.88000000e+02   8.12000000e-01   7.54000008e-01]\n",
      " [  4.38000000e+02   3.90000000e+02   8.44000000e-01   7.52000034e-01]\n",
      " [  4.61000000e+02   3.88000000e+02   8.63000000e-01   7.54000008e-01]\n",
      " [  4.64000000e+02   3.87000000e+02   8.83000000e-01   7.49000013e-01]\n",
      " [  4.79000000e+02   3.88000000e+02   8.99000000e-01   7.49000013e-01]\n",
      " [  4.82000000e+02   3.93000000e+02   9.15000000e-01   7.36000061e-01]\n",
      " [  4.95000000e+02   3.89000000e+02   9.25000000e-01   7.30000019e-01]\n",
      " [  5.03000000e+02   3.88000000e+02   9.52000000e-01   7.26000011e-01]\n",
      " [  5.11000000e+02   3.96000000e+02   9.71000000e-01   7.19000041e-01]\n",
      " [  5.28000000e+02   3.94000000e+02   9.90000000e-01   7.16000021e-01]\n",
      " [  5.36000000e+02   3.99000000e+02   1.00300000e+00   7.10000038e-01]\n",
      " [  5.40000000e+02   3.99000000e+02   1.02200000e+00   7.00000048e-01]\n",
      " [  5.45000000e+02   4.00000000e+02   1.03600000e+00   6.93000019e-01]\n",
      " [  5.59000000e+02   4.02000000e+02   1.05500000e+00   6.88000023e-01]\n",
      " [  5.64000000e+02   4.04000000e+02   1.06400000e+00   6.84000015e-01]\n",
      " [  5.68000000e+02   4.00000000e+02   1.07600000e+00   6.86000049e-01]\n",
      " [  5.70000000e+02   4.00000000e+02   1.08800000e+00   6.84000015e-01]\n",
      " [  5.76000000e+02   4.02000000e+02   1.10600000e+00   6.79000020e-01]\n",
      " [  5.78000000e+02   4.03000000e+02   1.13500000e+00   6.77000046e-01]\n",
      " [  5.84000000e+02   4.04000000e+02   1.14900000e+00   6.77000046e-01]\n",
      " [  5.90000000e+02   4.07000000e+02   1.17400000e+00   6.77000046e-01]\n",
      " [  5.94000000e+02   4.07000000e+02   1.19400000e+00   6.91000044e-01]\n",
      " [  6.01000000e+02   4.06000000e+02   1.20800000e+00   7.03000009e-01]\n",
      " [  6.05000000e+02   4.07000000e+02   1.23000000e+00   7.10000038e-01]\n",
      " [  6.08000000e+02   4.04000000e+02   1.24400000e+00   7.19000041e-01]\n",
      " [  6.12000000e+02   4.05000000e+02   1.27700000e+00   8.53000045e-01]\n",
      " [  6.18000000e+02   4.08000000e+02   1.29000000e+00   1.05000007e+00]\n",
      " [  6.28000000e+02   4.05000000e+02   1.30600000e+00              nan]\n",
      " [  1.41000000e+02   3.83000000e+02   3.60300000e+00   9.56000030e-01]\n",
      " [  1.52000000e+02   3.82000000e+02   3.61300000e+00   9.61000025e-01]\n",
      " [  1.58000000e+02   3.83000000e+02   3.64100000e+00   9.64000046e-01]\n",
      " [  1.61000000e+02   3.86000000e+02   3.65900000e+00   9.70000029e-01]\n",
      " [  1.79000000e+02   3.80000000e+02   3.66900000e+00   9.75000024e-01]\n",
      " [  1.85000000e+02   3.80000000e+02   3.68300000e+00   9.78000045e-01]\n",
      " [  1.88000000e+02   3.83000000e+02   3.70900000e+00   9.78000045e-01]\n",
      " [  1.94000000e+02   3.82000000e+02   3.72500000e+00   9.84000027e-01]\n",
      " [  2.09000000e+02   3.80000000e+02   3.75800000e+00   9.89000022e-01]\n",
      " [  2.16000000e+02   3.79000000e+02   3.77900000e+00   9.92000043e-01]\n",
      " [  2.24000000e+02   3.79000000e+02   3.79200000e+00   9.92000043e-01]\n",
      " [  2.34000000e+02   3.79000000e+02   3.81300000e+00   9.98000026e-01]\n",
      " [  2.43000000e+02   3.78000000e+02   3.82600000e+00   1.00100005e+00]\n",
      " [  2.55000000e+02   3.80000000e+02   3.83800000e+00   1.00100005e+00]\n",
      " [  2.58000000e+02   3.74000000e+02   3.85100000e+00   1.00400007e+00]\n",
      " [  2.69000000e+02   3.77000000e+02   3.87200000e+00   1.00700009e+00]\n",
      " [  2.75000000e+02   3.76000000e+02   3.88700000e+00   1.00700009e+00]\n",
      " [  2.82000000e+02   3.76000000e+02   3.89700000e+00   1.00700009e+00]\n",
      " [  2.86000000e+02   3.75000000e+02   3.91400000e+00   1.00700009e+00]\n",
      " [  2.95000000e+02   3.75000000e+02   3.92700000e+00   1.00999999e+00]\n",
      " [  3.04000000e+02   3.71000000e+02   3.94100000e+00   1.00999999e+00]\n",
      " [  3.08000000e+02   3.71000000e+02   3.95200000e+00   1.00999999e+00]\n",
      " [  3.11000000e+02   3.65000000e+02   3.97100000e+00   1.00999999e+00]\n",
      " [  3.21000000e+02   3.69000000e+02   3.98100000e+00   1.00999999e+00]\n",
      " [  3.38000000e+02   3.68000000e+02   4.00100000e+00   1.01300001e+00]\n",
      " [  3.37000000e+02   3.69000000e+02   4.02400000e+00   1.01300001e+00]\n",
      " [  3.53000000e+02   3.68000000e+02   4.03800000e+00   1.01300001e+00]\n",
      " [  3.50000000e+02   3.70000000e+02   4.05700000e+00   1.00999999e+00]\n",
      " [  3.20000000e+01   1.54000000e+02   4.10700000e+00              nan]\n",
      " [  4.00000000e+01   1.54000000e+02   4.12900000e+00              nan]\n",
      " [  4.10000000e+01   1.57000000e+02   4.14000000e+00              nan]\n",
      " [  5.00000000e+01   1.56000000e+02   4.15600000e+00              nan]\n",
      " [  5.20000000e+01   1.58000000e+02   4.17000000e+00              nan]\n",
      " [  5.60000000e+01   1.59000000e+02   4.18600000e+00              nan]\n",
      " [  8.90000000e+01   1.53000000e+02   4.19900000e+00   7.00000048e-01]\n",
      " [  4.70000000e+01   1.67000000e+02   4.22600000e+00              nan]\n",
      " [  7.60000000e+01   1.67000000e+02   4.23900000e+00   1.10400009e+00]\n",
      " [  1.03000000e+02   1.58000000e+02   4.25100000e+00   9.86000061e-01]\n",
      " [  8.40000000e+01   1.65000000e+02   4.27400000e+00   1.01300001e+00]\n",
      " [  8.70000000e+01   1.67000000e+02   4.28400000e+00   9.98000026e-01]\n",
      " [  8.90000000e+01   1.72000000e+02   4.30600000e+00   1.53600001e+00]\n",
      " [  9.60000000e+01   1.70000000e+02   4.34200000e+00   1.04000008e+00]\n",
      " [  1.04000000e+02   1.74000000e+02   4.34800000e+00   1.28700006e+00]\n",
      " [  1.07000000e+02   1.74000000e+02   4.36800000e+00   1.19300008e+00]\n",
      " [  1.13000000e+02   1.74000000e+02   4.38500000e+00   1.21000004e+00]\n",
      " [  1.17000000e+02   1.75000000e+02   4.40500000e+00   1.28950000e+00]\n",
      " [  1.31000000e+02   1.76000000e+02   4.42800000e+00   1.36700010e+00]\n",
      " [  1.45000000e+02   1.76000000e+02   4.45300000e+00   1.25400007e+00]\n",
      " [  1.48000000e+02   1.78000000e+02   4.46900000e+00   1.49600005e+00]\n",
      " [  1.57000000e+02   1.77000000e+02   4.48600000e+00   1.55000007e+00]\n",
      " [  1.62000000e+02   1.75000000e+02   4.51300000e+00   1.62300003e+00]\n",
      " [  1.75000000e+02   1.79000000e+02   4.52600000e+00   1.60100007e+00]\n",
      " [  1.86000000e+02   1.78000000e+02   4.54400000e+00   1.50200009e+00]\n",
      " [  1.89000000e+02   1.77000000e+02   4.56400000e+00   1.47600007e+00]\n",
      " [  1.95000000e+02   1.80000000e+02   4.57500000e+00   1.47600007e+00]\n",
      " [  2.01000000e+02   1.78000000e+02   4.59600000e+00   1.39200008e+00]\n",
      " [  2.05000000e+02   1.78000000e+02   4.60600000e+00   1.32700002e+00]\n",
      " [  2.18000000e+02   1.81000000e+02   4.62400000e+00   1.25650001e+00]\n",
      " [  2.29000000e+02   1.82000000e+02   4.63800000e+00   1.16500008e+00]\n",
      " [  2.33000000e+02   1.80000000e+02   4.66300000e+00   1.19700003e+00]\n",
      " [  2.42000000e+02   1.81000000e+02   4.67400000e+00   1.15300000e+00]\n",
      " [  2.44000000e+02   1.81000000e+02   4.68900000e+00   1.08000004e+00]\n",
      " [  2.50000000e+02   1.80000000e+02   4.70100000e+00   1.11200011e+00]\n",
      " [  2.55000000e+02   1.82000000e+02   4.71300000e+00   1.08850002e+00]\n",
      " [  2.57000000e+02   1.83000000e+02   4.73200000e+00   1.09549999e+00]\n",
      " [  2.76000000e+02   1.83000000e+02   4.75300000e+00   1.16500008e+00]\n",
      " [  2.79000000e+02   1.81000000e+02   4.76600000e+00   1.15700006e+00]\n",
      " [  2.87000000e+02   1.84000000e+02   4.78500000e+00   1.11900008e+00]\n",
      " [  2.97000000e+02   1.81000000e+02   4.79900000e+00   1.12600005e+00]\n",
      " [  3.01000000e+02   1.83000000e+02   4.82300000e+00   1.13000000e+00]\n",
      " [  3.05000000e+02   1.81000000e+02   4.83800000e+00   1.16500008e+00]\n",
      " [  3.14000000e+02   1.81000000e+02   4.85700000e+00   1.13700008e+00]\n",
      " [  3.33000000e+02   1.83000000e+02   4.89000000e+00   1.00999999e+00]\n",
      " [  3.37000000e+02   1.83000000e+02   4.90800000e+00   1.01300001e+00]\n",
      " [  3.42000000e+02   1.82000000e+02   4.92300000e+00   1.00100005e+00]\n",
      " [  3.48000000e+02   1.82000000e+02   4.92600000e+00   9.75000024e-01]\n",
      " [  3.57000000e+02   1.80000000e+02   4.94700000e+00   9.86000061e-01]\n",
      " [  3.63000000e+02   1.83000000e+02   4.97200000e+00   1.04000008e+00]\n",
      " [  3.73000000e+02   1.81000000e+02   4.98600000e+00   1.10100007e+00]\n",
      " [  3.81000000e+02   1.79000000e+02   5.01000000e+00   1.13000000e+00]\n",
      " [  3.91000000e+02   1.80000000e+02   5.02800000e+00   1.17500007e+00]\n",
      " [  3.98000000e+02   1.79000000e+02   5.03900000e+00   1.22300005e+00]\n",
      " [  4.06000000e+02   1.80000000e+02   5.06800000e+00   1.21200013e+00]\n",
      " [  4.14000000e+02   1.81000000e+02   5.08000000e+00   1.16800010e+00]\n",
      " [  4.21000000e+02   1.79000000e+02   5.09500000e+00   1.11900008e+00]\n",
      " [  4.24000000e+02   1.80000000e+02   5.11900000e+00   1.16100001e+00]\n",
      " [  4.37000000e+02   1.79000000e+02   5.14800000e+00   1.11500001e+00]\n",
      " [  4.49000000e+02   1.80000000e+02   5.15300000e+00   1.13700008e+00]\n",
      " [  4.24000000e+02   1.86000000e+02   5.17400000e+00   1.13400006e+00]\n",
      " [  4.33000000e+02   1.86000000e+02   5.18900000e+00   1.42700005e+00]\n",
      " [  4.41000000e+02   1.86000000e+02   5.22000000e+00   1.13700008e+00]\n",
      " [  4.48000000e+02   1.86000000e+02   5.23300000e+00   1.28700006e+00]\n",
      " [  4.55000000e+02   1.86000000e+02   5.24700000e+00   1.14500010e+00]\n",
      " [  4.58000000e+02   1.86000000e+02   5.26100000e+00   1.25000000e+00]\n",
      " [  4.62000000e+02   1.87000000e+02   5.28600000e+00   1.34300005e+00]\n",
      " [  4.76000000e+02   1.87000000e+02   5.30200000e+00   1.11500001e+00]\n",
      " [  4.79000000e+02   1.88000000e+02   5.31500000e+00   1.17300010e+00]\n",
      " [  4.84000000e+02   1.88000000e+02   5.32700000e+00   1.09400010e+00]\n",
      " [  4.84000000e+02   1.88000000e+02   5.34100000e+00   1.25000000e+00]\n",
      " [             nan              nan              nan              nan]\n",
      " [             nan              nan              nan              nan]\n",
      " [             nan              nan              nan              nan]\n",
      " [             nan              nan              nan              nan]\n",
      " [             nan              nan              nan              nan]\n",
      " [             nan              nan              nan              nan]\n",
      " [             nan              nan              nan              nan]\n",
      " [             nan              nan              nan              nan]\n",
      " [             nan              nan              nan              nan]\n",
      " [             nan              nan              nan              nan]\n",
      " [             nan              nan              nan              nan]\n",
      " [             nan              nan              nan              nan]\n",
      " [             nan              nan              nan              nan]\n",
      " [             nan              nan              nan              nan]\n",
      " [  1.70000000e+01   3.78000000e+02   6.21200000e+00              nan]\n",
      " [  2.30000000e+01   3.71000000e+02   6.22900000e+00              nan]\n",
      " [             nan              nan              nan              nan]\n",
      " [             nan              nan              nan              nan]\n",
      " [             nan              nan              nan              nan]\n",
      " [             nan              nan              nan              nan]\n",
      " [             nan              nan              nan              nan]\n",
      " [             nan              nan              nan              nan]\n",
      " [  5.50000000e+01   3.62000000e+02   4.00000000e-02   7.25000024e-01]\n",
      " [  5.90000000e+01   3.61000000e+02   5.00000000e-02   7.16000021e-01]\n",
      " [  6.50000000e+01   3.60000000e+02   6.60000000e-02   7.22000062e-01]\n",
      " [  6.70000000e+01   3.59000000e+02   9.20000000e-02   7.10000038e-01]\n",
      " [  7.30000000e+01   3.59000000e+02   1.03000000e-01   7.16000021e-01]\n",
      " [  7.50000000e+01   3.60000000e+02   1.19000000e-01   7.01000035e-01]\n",
      " [  8.50000000e+01   3.58000000e+02   1.28000000e-01   7.05000043e-01]\n",
      " [  9.80000000e+01   3.56000000e+02   1.45000000e-01   7.11000025e-01]\n",
      " [  1.06000000e+02   3.56000000e+02   1.75000000e-01   7.11000025e-01]\n",
      " [  1.16000000e+02   3.55000000e+02   1.87000000e-01   7.16000021e-01]\n",
      " [  1.22000000e+02   3.55000000e+02   2.00000000e-01   7.17000008e-01]\n",
      " [  1.31000000e+02   3.55000000e+02   2.09000000e-01   7.19000041e-01]\n",
      " [  1.43000000e+02   3.55000000e+02   2.26000000e-01   7.25000024e-01]\n",
      " [  1.48000000e+02   3.55000000e+02   2.50000000e-01   7.28000045e-01]\n",
      " [  1.62000000e+02   3.54000000e+02   2.62000000e-01   7.34000027e-01]\n",
      " [  1.62000000e+02   3.54000000e+02   2.83000000e-01   7.34000027e-01]\n",
      " [  1.74000000e+02   3.55000000e+02   3.00000000e-01   7.37000048e-01]\n",
      " [  1.78000000e+02   3.53000000e+02   3.13000000e-01   7.44000018e-01]\n",
      " [  1.89000000e+02   3.54000000e+02   3.28000000e-01   7.45000064e-01]\n",
      " [  2.03000000e+02   3.53000000e+02   3.52000000e-01   7.47000039e-01]\n",
      " [  2.12000000e+02   3.54000000e+02   3.63000000e-01   7.50000060e-01]\n",
      " [  2.24000000e+02   3.54000000e+02   3.89000000e-01   7.52000034e-01]\n",
      " [  2.33000000e+02   3.54000000e+02   4.21000000e-01   7.54000008e-01]\n",
      " [  2.37000000e+02   3.53000000e+02   4.30000000e-01   7.55000055e-01]\n",
      " [  2.45000000e+02   3.54000000e+02   4.43000000e-01   7.55000055e-01]\n",
      " [  2.55000000e+02   3.57000000e+02   4.72000000e-01   7.57000029e-01]\n",
      " [  2.70000000e+02   3.59000000e+02   4.88000000e-01   7.59000063e-01]\n",
      " [  2.78000000e+02   3.57000000e+02   5.08000000e-01   7.60000050e-01]\n",
      " [  2.87000000e+02   3.57000000e+02   5.20000000e-01   7.60000050e-01]\n",
      " [  2.87000000e+02   3.57000000e+02   5.36000000e-01   7.60000050e-01]\n",
      " [  2.97000000e+02   3.61000000e+02   5.48000000e-01   7.60000050e-01]\n",
      " [  3.11000000e+02   3.61000000e+02   5.67000000e-01   7.60000050e-01]]\n"
     ]
    }
   ],
   "source": [
    "for index, ball in enumerate(ball_np):\n",
    "    if(ball[3]> np.nanmedian(ball_np[:,3]) + np.nanstd(ball_np[:,3])):\n",
    "        ball_np[index] = [np.nan,np.nan,np.nan,np.nan]\n",
    "ball_np[np.nanargmin(np.abs(ball_np[:,0]-320))]"
   ]
  },
  {
   "cell_type": "code",
   "execution_count": 106,
   "metadata": {},
   "outputs": [
    {
     "name": "stdout",
     "output_type": "stream",
     "text": [
      "[ 0.672  0.688  0.705  0.724  0.742  0.768  0.785  0.801  0.812  0.844\n",
      "  0.863  0.883  0.899  0.915  0.925  0.952  0.971  0.99   1.003  1.022\n",
      "  1.036  1.055  1.064  1.076  1.088  1.106  1.135  1.149  1.174  1.194\n",
      "  1.208  1.23   1.244  1.277  1.29   1.306  3.603  3.613  3.641  3.659\n",
      "  3.669  3.683  3.709  3.725  3.758  3.779  3.792  3.813  3.826  3.838\n",
      "  3.851  3.872  3.887  3.897  3.914  3.927  3.941  3.952  3.971  3.981\n",
      "  4.001  4.024  4.038  4.057  4.107  4.129  4.14   4.156  4.17   4.186\n",
      "  4.199  4.226  4.239  4.251  4.274  4.284  4.306  4.342  4.348  4.368\n",
      "  4.385  4.405  4.428  4.453  4.469  4.486  4.513  4.526  4.544  4.564\n",
      "  4.575  4.596  4.606  4.624  4.638  4.663  4.674  4.689  4.701  4.713\n",
      "  4.732  4.753  4.766  4.785  4.799  4.823  4.838  4.857  4.89   4.908\n",
      "  4.923  4.926  4.947  4.972  4.986  5.01   5.028  5.039  5.068  5.08\n",
      "  5.095  5.119  5.148  5.153  5.174  5.189  5.22   5.233  5.247  5.261\n",
      "  5.286  5.302  5.315  5.327  5.341    nan    nan    nan    nan    nan\n",
      "    nan    nan    nan    nan    nan    nan    nan    nan    nan  6.212\n",
      "  6.229    nan    nan    nan    nan    nan    nan  0.04   0.05   0.066\n",
      "  0.092  0.103  0.119  0.128  0.145  0.175  0.187  0.2    0.209  0.226\n",
      "  0.25   0.262  0.283  0.3    0.313  0.328  0.352  0.363  0.389  0.421\n",
      "  0.43   0.443  0.472  0.488  0.508  0.52   0.536  0.548  0.567]\n"
     ]
    }
   ],
   "source": [
    "print ball_np[:,2]"
   ]
  },
  {
   "cell_type": "code",
   "execution_count": 2,
   "metadata": {},
   "outputs": [],
   "source": [
    "turnToTheta(0.0)"
   ]
  },
  {
   "cell_type": "code",
   "execution_count": null,
   "metadata": {},
   "outputs": [],
   "source": []
  }
 ],
 "metadata": {
  "kernelspec": {
   "display_name": "Python 2",
   "language": "python",
   "name": "python2"
  },
  "language_info": {
   "codemirror_mode": {
    "name": "ipython",
    "version": 2
   },
   "file_extension": ".py",
   "mimetype": "text/x-python",
   "name": "python",
   "nbconvert_exporter": "python",
   "pygments_lexer": "ipython2",
   "version": "2.7.12"
  }
 },
 "nbformat": 4,
 "nbformat_minor": 2
}
