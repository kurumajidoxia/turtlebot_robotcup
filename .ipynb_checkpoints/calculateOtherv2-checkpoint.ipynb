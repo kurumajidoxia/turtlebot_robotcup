{
 "cells": [
  {
   "cell_type": "code",
   "execution_count": 5,
   "metadata": {},
   "outputs": [],
   "source": [
    "def calculateOtherPosition(theta_ball,dist_balls,theta_gate,dist_gate,\n",
    "                          dist2_balls,dist2_gate,theta2_diff):\n",
    "    #Theta dif: difference between the theta of the (theta_ball-theta_gate)\n",
    "    \n",
    "    #Go to Cartesian coordinates\n",
    "    xb = math.cos(theta_ball) * dist_balls\n",
    "    yb = math.sin(theta_ball) * dist_balls\n",
    "    xg = math.cos(theta_gate) * dist_gate\n",
    "    yg = math.sin(theta_gate) * dist_gate\n",
    "    \n",
    "    #Tell how's the relation between two circles\n",
    "    vx = xb-xg\n",
    "    vy = yb-yg\n",
    "    d = math.sqrt(vx**2 + vy**2)\n",
    "    if d < (dist2_ball + dist2_gate) and d > abs(dist2_ball - dist2_gate): #intersect\n",
    "        #Caluclate the two points\n",
    "        m = (xb-xg)/(yg-yb)\n",
    "        k = (dist2_balls**2 - dist2_gate**2 + xg**2 - xb**2 + yg**2 - yb**2)/(2*(yg-yb))\n",
    "\n",
    "        a = 1 + m**2\n",
    "        b = 2*(m*k - m*yg -xg)\n",
    "        c = (xg**2 + yg**2 + k**2 - 2*k*yg - dist2_gate**2)\n",
    "        \n",
    "        x1=((-b)+math.sqrt(b**2-4*a*c))/(2*a);#x=(-b+√(b^2-4ac))/2a\n",
    "        y1=m*x1+k; #y=mx+k\n",
    "        x2=((-b)-math.sqrt(b**2-4*a*c))/(2*a);#x=(-b-√(b^2-4ac))/2a\n",
    "        y2=m*x2+k; #y=mx+k\n",
    "        #Decide which one is the correct one\n",
    "        theta1 = math.atan2(y1-yg,x1-xg) \n",
    "        theta2 = math.atan2(y1-yb,x1-xb)\n",
    "        if theta1 < 0:\n",
    "            theta1 += math.pi*2\n",
    "        if theta2 < 0:\n",
    "            theta2 += math.pi*2\n",
    "        if (theta1 < theta2) == (theta2_diff > 0):\n",
    "            x_other = x1\n",
    "            y_other = y1\n",
    "        else:\n",
    "            x_other = x2\n",
    "            y_other = y2\n",
    "    else:\n",
    "        v = [vx,xy,-vx,-vy]\n",
    "        p_ball = v*dist2_ball/d + [xb,yb,xb,yb]\n",
    "        p_gate = v*dist2_gate/d + [xg,yg,xg,yg]\n",
    "        if d > dist2_ball + dist2_gate: #apart\n",
    "            if math.sqrt((p_ball[0]-p_gate[2])**2+(p_ball[1]-p_gate[3])**2) < math.sqrt((p_ball[2]-p_gate[0])**2+(p_ball[3]-p_gate[1])**2):\n",
    "                x_other = (p_ball[0] + p_gate[2])/2\n",
    "                y_other = (p_ball[1] + p_gate[3])/2\n",
    "            else:\n",
    "                x_other = (p_ball[2] + p_gate[0])/2\n",
    "                y_other = (p_ball[3] + p_gate[1])/2\n",
    "        else: #inside\n",
    "            if math.sqrt((p_ball[0]-p_gate[0])**2+(p_ball[1]-p_gate[1])**2) < math.sqrt((p_ball[2]-p_gate[2])**2+(p_ball[3]-p_gate[3])**2):\n",
    "                x_other = (p_ball[0] + p_gate[0])/2\n",
    "                y_other = (p_ball[1] + p_gate[1])/2\n",
    "            else:\n",
    "                x_other = (p_ball[2] + p_gate[2])/2\n",
    "                y_other = (p_ball[3] + p_gate[3])/2\n",
    "    theta3 = math.atan2(y_other,x_other)\n",
    "    if theta3 <0:\n",
    "        theta3 += math.pi*2\n",
    "    dist3 = math.sqrt(x_other**2 + y_other**2)\n",
    "    \n",
    "    return dist3, theta3"
   ]
  },
  {
   "cell_type": "code",
   "execution_count": null,
   "metadata": {},
   "outputs": [],
   "source": [
    "dx = xb-xg\n",
    "dy = yb-yg\n",
    "dr = math.sqrt(dx**2 + dy**2)\n",
    "D = xg*yb - xb*yg\n",
    "Mb = math.sqrt(dist2_ball**2 * dr**2 - D**2)\n",
    "Mg = math.sqrt(dist2_gate**2 * dr**2 - D**2)\n",
    "p_ball_x = [D*dy+np.sign(dy)*dx*Mb,D*dy-np.sign(dy)*dx*Mb]/(dr**2)\n",
    "p_ball_y = [-D*dx+abs(dy)*Mb,-D*dx-abs(dy)*Mb]/(dr**2)\n",
    "p_gate_x = [D*dy+np.sign(dy)*dx*Mg,D*dy-np.sign(dy)*dx*Mg]/(dr**2)\n",
    "p_gate_y = [-D*dx+abs(dy)*Mg,-D*dx-abs(dy)*Mg]/(dr**2)"
   ]
  },
  {
   "cell_type": "code",
   "execution_count": 2,
   "metadata": {},
   "outputs": [
    {
     "data": {
      "text/plain": [
       "1"
      ]
     },
     "execution_count": 2,
     "metadata": {},
     "output_type": "execute_result"
    }
   ],
   "source": [
    "import numpy as np\n",
    "np.sign(1)"
   ]
  },
  {
   "cell_type": "code",
   "execution_count": null,
   "metadata": {},
   "outputs": [],
   "source": []
  }
 ],
 "metadata": {
  "kernelspec": {
   "display_name": "Python 2",
   "language": "python",
   "name": "python2"
  },
  "language_info": {
   "codemirror_mode": {
    "name": "ipython",
    "version": 2
   },
   "file_extension": ".py",
   "mimetype": "text/x-python",
   "name": "python",
   "nbconvert_exporter": "python",
   "pygments_lexer": "ipython2",
   "version": "2.7.12"
  }
 },
 "nbformat": 4,
 "nbformat_minor": 2
}
