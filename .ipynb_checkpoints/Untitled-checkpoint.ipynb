{
 "cells": [
  {
   "cell_type": "code",
   "execution_count": null,
   "metadata": {},
   "outputs": [],
   "source": [
    "def findGate():\n",
    "    #subscribe topics\n",
    "    subscriber_array = rospy.Subscriber(\"/bestRobot/aruco_marker_publisher/markers\", MarkerArray, callback_array)\n",
    "    \n",
    "    \n",
    "    \n",
    "    #unsubscribe topics\n",
    "    subscriber_array.unregister()\n",
    "    \n",
    "    return , dist_gate, theta_gate"
   ]
  },
  {
   "cell_type": "code",
   "execution_count": null,
   "metadata": {},
   "outputs": [],
   "source": [
    "def findBall():\n",
    "    #subscribe topics\n",
    "    subscriber_color = rospy.Subscriber(\"/bestRobot/camera/rgb/image_rect_color\", Image, callback_color)\n",
    "    subscriber_depth = rospy.Subscriber(\"/bestRobot/camera/depth/image_rect\", Image, callback_depth)\n",
    "    \n",
    "    \n",
    "    \n",
    "    #unsubscribe topics\n",
    "    subscriber_color.unregister()\n",
    "    subscriber_depth.unregister()\n",
    "    \n",
    "    return ball_np, theta_cleaned, dist_balls, theta_ball"
   ]
  }
 ],
 "metadata": {
  "kernelspec": {
   "display_name": "Python 2",
   "language": "python",
   "name": "python2"
  },
  "language_info": {
   "codemirror_mode": {
    "name": "ipython",
    "version": 2
   },
   "file_extension": ".py",
   "mimetype": "text/x-python",
   "name": "python",
   "nbconvert_exporter": "python",
   "pygments_lexer": "ipython2",
   "version": "2.7.12"
  }
 },
 "nbformat": 4,
 "nbformat_minor": 2
}
