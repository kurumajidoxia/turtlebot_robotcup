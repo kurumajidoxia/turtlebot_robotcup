{
 "cells": [
  {
   "cell_type": "code",
   "execution_count": 84,
   "metadata": {},
   "outputs": [],
   "source": [
    "import rospy\n",
    "import math\n",
    "import numpy as np\n",
    "import cv2\n",
    "import time\n",
    "\n",
    "from sensor_msgs.msg import Image\n",
    "from aruco_msgs.msg import MarkerArray\n",
    "from cv_bridge import CvBridge, CvBridgeError\n",
    "from geometry_msgs.msg import Twist\n",
    "from nav_msgs.msg import Odometry\n",
    "from operator import itemgetter\n",
    "\n",
    "import matplotlib.pyplot as plt\n",
    "%matplotlib inline\n",
    "\n",
    "bridge = CvBridge()\n",
    "\n",
    "#For organizing timestamps\n",
    "from bisect import bisect_left\n",
    "\n",
    "def takeClosest(myList, myNumber):\n",
    "    \"\"\"\n",
    "    Assumes myList is sorted. Returns closest value to myNumber.\n",
    "\n",
    "    If two numbers are equally close, return the smallest number.\n",
    "    \"\"\"\n",
    "    pos = bisect_left(myList, myNumber)\n",
    "    if pos == 0:\n",
    "        return myList[0]\n",
    "    if pos == len(myList):\n",
    "        return myList[-1]\n",
    "    before = myList[pos - 1]\n",
    "    after = myList[pos]\n",
    "    if after - myNumber < myNumber - before:\n",
    "       return after\n",
    "    else:\n",
    "       return before\n",
    "\n",
    "rospy.init_node('turtlebot_singleplayer', anonymous=True)\n",
    "rospy.sleep(0.5)\n",
    "lower_blue = (0,0,120)\n",
    "upper_blue = (100,100,255)\n",
    "lower_red = (200,0,0)\n",
    "upper_red = (255,100,100)\n",
    "\n",
    "def callback_color(msg):\n",
    "    global color_timestamp\n",
    "    global color_img\n",
    "    color_timestamp = msg.header.stamp\n",
    "    color_img = bridge.imgmsg_to_cv2(msg, \"rgb8\")\n",
    "\n",
    "def callback_depth(msg):\n",
    "    global depth_img\n",
    "    global depth_timestamp\n",
    "    depth_timestamp = msg.header.stamp\n",
    "    depth_img = bridge.imgmsg_to_cv2(msg, \"32FC1\")\n",
    "\n",
    "def callback_odom(data):\n",
    "    global x\n",
    "    global y\n",
    "    global theta\n",
    "    global odom_timestamp \n",
    "    position = data.pose.pose.position\n",
    "    orientation = data.pose.pose.orientation\n",
    "    odom_timestamp = data.header.stamp\n",
    "    x = round(position.x, 3)\n",
    "    y = round(position.y, 3)\n",
    "    theta = round(2*math.atan2(orientation.z,orientation.w), 3)\n",
    "    if theta<0:\n",
    "        theta = 6.3 + theta\n",
    "\n",
    "def callback_array(msg):\n",
    "    global marker_array\n",
    "    global marker_array_timestamp\n",
    "    marker_array_timestamp = msg.header.stamp\n",
    "    marker_array = msg.markers\n",
    "    #print \"Marker array:\",marker_array_timestamp\n",
    "\n",
    "\n",
    "#turn to certain theta\n",
    "def turnToTheta(theta_tar):\n",
    "    twist = Twist()\n",
    "    twist.linear.x = 0.0\n",
    "    ang_diff = theta_tar - theta\n",
    "    s = np.sign(ang_diff)\n",
    "    if abs(ang_diff) > math.pi:\n",
    "        s *= -1.0\n",
    "        ang_diff = 2*math.pi - abs(ang_diff)\n",
    "    ang_vel = s*ang_diff*0.6\n",
    "    if abs(ang_vel) < 0.2:\n",
    "        ang_vel = np.sign(ang_vel)*0.2\n",
    "    twist.angular.z = ang_vel\n",
    "    r = rospy.Rate(10)\n",
    "    while(abs(theta_tar-theta) > 0.1):\n",
    "        publisher.publish(twist)\n",
    "        r.sleep()\n",
    "        ang_diff = abs(theta_tar - theta)\n",
    "        if ang_diff > math.pi:\n",
    "            ang_diff = 2*math.pi - ang_diff\n",
    "        ang_vel = s*ang_diff*0.6\n",
    "        if abs(ang_vel) < 0.2:\n",
    "            ang_vel = np.sign(ang_vel)*0.2\n",
    "        twist.angular.z = ang_vel\n",
    "        #print theta\n",
    "\n",
    "def moveForward(distance):\n",
    "    t = int(round(distance*25))\n",
    "    twist = Twist()\n",
    "    twist.linear.x = 0.4\n",
    "    twist.angular.z = 0.0\n",
    "    r = rospy.Rate(10)\n",
    "    for i in range(t):\n",
    "        publisher.publish(twist)\n",
    "        r.sleep()\n",
    "        \n",
    "def get_depth(colorim,depthim):\n",
    "    mask_blue = cv2.inRange(colorim, lower_blue, upper_blue)\n",
    "    mask_red = cv2.inRange(colorim, lower_red, upper_red)\n",
    "    kernel = np.ones((5,5),np.uint8)\n",
    "    erosion_blue = cv2.erode(mask_blue,kernel,iterations = 1)\n",
    "    dilation_blue = cv2.dilate(erosion_blue,kernel,iterations = 3)\n",
    "    erosion_red = cv2.erode(mask_red,kernel,iterations = 1)\n",
    "    dilation_red = cv2.dilate(erosion_red,kernel,iterations = 3)\n",
    "    mask = cv2.bitwise_or(dilation_blue, dilation_red)\n",
    "    im, cnt, hrc = cv2.findContours(mask,cv2.RETR_EXTERNAL,cv2.CHAIN_APPROX_SIMPLE)\n",
    "    cnt.sort(key=cv2.contourArea, reverse=True)\n",
    "    if cnt:\n",
    "        x, y, w, h = cv2.boundingRect( cnt[0] )\n",
    "        if (w*h > 2000):\n",
    "            x_ball = x+w/2\n",
    "            y_ball = y+h/2\n",
    "            dist_ball = np.nanmedian(depthim[y:y+h,x:x+w])\n",
    "        else:\n",
    "            x_ball = 0\n",
    "            y_ball = 0\n",
    "            dist_ball = None\n",
    "    else:\n",
    "        x_ball = 0\n",
    "        y_ball = 0\n",
    "        dist_ball = None\n",
    "    return x_ball,y_ball,dist_ball\n",
    "\n",
    "def medfilt (x, k):\n",
    "    \"\"\"Apply a length-k median filter to a 1D array x.\n",
    "    Boundaries are extended by repeating endpoints.\n",
    "    \"\"\"\n",
    "    assert k % 2 == 1, \"Median filter length must be odd.\"\n",
    "    assert x.ndim == 1, \"Input must be one-dimensional.\"\n",
    "    k2 = (k - 1) // 2\n",
    "    y = np.zeros ((len (x), k), dtype=x.dtype)\n",
    "    y[:,k2] = x\n",
    "    for i in range (k2):\n",
    "        j = k2 - i\n",
    "        y[j:,i] = x[:-j]\n",
    "        y[:j,i] = x[0]\n",
    "        y[:-j,-(i+1)] = x[j:]\n",
    "        y[-j:,-(i+1)] = x[-1]\n",
    "    return np.median (y, axis=1)\n",
    "\n",
    "\n",
    "subscriber_color = rospy.Subscriber(\"/camera/rgb/image_rect_color\", Image, callback_color)\n",
    "subscriber_depth = rospy.Subscriber(\"/camera/depth/image_rect\", Image, callback_depth)\n",
    "subscriber = rospy.Subscriber(\"odom\", Odometry, callback_odom)\n",
    "publisher = rospy.Publisher('cmd_vel_mux/input/teleop', Twist, queue_size=10)\n",
    "subscriber_array = rospy.Subscriber(\"/aruco_marker_publisher/markers\", MarkerArray, callback_array)"
   ]
  },
  {
   "cell_type": "code",
   "execution_count": 85,
   "metadata": {},
   "outputs": [],
   "source": [
    "#Turn around look for the gate\n",
    "gate_dist, gate_stamp, gate_theta, gate_theta_raw, gate_theta_stamp = [],[],[],[],[] # Whether it was found, and its theta coordinate, and x \n",
    "twist = Twist()\n",
    "#We need this if we want to turn full circle\n",
    "theta_initial = theta\n",
    "theta_opposite = math.atan2(-math.sin(theta_initial),-math.cos(theta_initial))\n",
    "if theta_opposite < 0:\n",
    "    theta_opposite += 2* math.pi\n",
    "half_circle = False\n",
    "\n",
    "#For data storage\n",
    "marker_array = None\n",
    "m = None\n",
    "#Find gate\n",
    "while (abs(theta-theta_initial)>0.1 or (half_circle != True)):\n",
    "    if(abs(theta-theta_opposite)<0.1):\n",
    "        half_circle = True\n",
    "    twist.angular.z = 0.2\n",
    "    \n",
    "        \n",
    "    r = rospy.Rate(100)\n",
    "    for i in range(10):\n",
    "        publisher.publish(twist)\n",
    "        r.sleep()\n",
    "    \n",
    "    gate_theta_raw.append(theta)\n",
    "    gate_theta_stamp.append(odom_timestamp)\n",
    "    try:\n",
    "        m = marker_array[0]\n",
    "        gate_dist.append(abs(m.pose.pose.position.z))\n",
    "        gate_stamp.append(marker_array_timestamp)\n",
    "        marker_array = None\n",
    "    except TypeError:\n",
    "        pass\n",
    "    \n",
    "#Organizing timestamps\n",
    "for stamp in gate_stamp:\n",
    "    index = gate_theta_stamp.index(takeClosest(gate_theta_stamp, stamp))\n",
    "    gate_theta.append(gate_theta_raw[index])\n",
    "    \n",
    "#Data cleanup\n",
    "sd = np.std(gate_theta)\n",
    "mean = np.mean(gate_theta)\n",
    "final_list = [x for x in gate_theta if (x > mean - sd)]\n",
    "final_list = [x for x in final_list if (x < mean +  sd)]\n",
    "theta_gate = np.mean(final_list)\n",
    "\n",
    "sd = np.std(gate_dist)\n",
    "mean = np.mean(gate_dist)\n",
    "final_list = [x for x in gate_dist if (x > mean - sd)]\n",
    "final_list = [x for x in final_list if (x < mean +  sd)]\n",
    "dist_gate = np.mean(final_list)\n",
    "\n",
    "#Calibrating the distance of the gate\n",
    "dist_gate = dist_gate * 1.08 + 0.03\n",
    "\n",
    "#Find ball\n",
    "twist = Twist()\n",
    "#We need this if we want to turn full circle\n",
    "theta_initial = theta\n",
    "theta_opposite = math.atan2(-math.sin(theta_initial),-math.cos(theta_initial))\n",
    "if theta_opposite < 0:\n",
    "    theta_opposite += 2* math.pi\n",
    "half_circle = False\n",
    "\n",
    "ball_pos = []\n",
    "theta_list = []\n",
    "while (abs(theta-theta_initial)>0.1 or (half_circle != True)):\n",
    "    if(abs(theta-theta_opposite)<0.1):\n",
    "        half_circle = True\n",
    "        \n",
    "    twist.angular.z = 0.2\n",
    "    r = rospy.Rate(100)\n",
    "    for i in range(5):\n",
    "        publisher.publish(twist)\n",
    "        r.sleep()\n",
    "    colorim = color_img.copy()\n",
    "    depthim = depth_img.copy()\n",
    "    x_ball, y_ball,dist_ball = get_depth(colorim,depthim)\n",
    "    if dist_ball:\n",
    "        ball_pos.append([x_ball, y_ball, theta, dist_ball])\n",
    "    theta_list.append(theta)\n",
    "    \n",
    "#Cleanup theta\n",
    "ball_np = np.array(ball_pos)\n",
    "idx = (np.abs(ball_np[:,0]-320)).argmin()\n",
    "ball_pos = ball_np[idx]\n",
    "dist_balls = ball_np[idx,3] \n",
    "theta_ball = ball_np[idx,2] \n",
    "#Theta cleanup\n",
    "# sd = np.std(ball_np[:,2])\n",
    "# mean = np.mean(ball_np[:,2])\n",
    "# final_list = [x for x in theta_list if (x > mean - sd)]\n",
    "# final_list = [x for x in final_list if (x < mean +  sd)]\n",
    "# theta_ball = sum(final_list) / float(len(final_list))"
   ]
  },
  {
   "cell_type": "code",
   "execution_count": 86,
   "metadata": {},
   "outputs": [
    {
     "data": {
      "image/png": "[encoded data removed]",
      "text/plain": [
       "<matplotlib.figure.Figure at 0x7f3c2425bdd0>"
      ]
     },
     "metadata": {},
     "output_type": "display_data"
    }
   ],
   "source": [
    "#Init figure\n",
    "plt.figure(figsize=(10, 10))\n",
    "ax = plt.axes(polar=True)\n",
    "max_val = math.ceil(max(dist_ball, dist_gate,max(np.nan_to_num(ball_np[:,3])),max(gate_dist) ))\n",
    "    \n",
    "#Plot robot\n",
    "ax.plot(0, 0,marker='o',markersize=60)\n",
    "ax.text( s =r'TURTLEBOT',x=0,y=0, horizontalalignment='center',\n",
    "        verticalalignment='center')\n",
    "\n",
    "#PlotGate\n",
    "try:\n",
    "    ax.plot(theta_gate,dist_gate,marker='o',markersize=120)\n",
    "    ax.text( s =r'GATE',x=theta_gate,y=dist_gate, horizontalalignment='center',\n",
    "            verticalalignment='center')\n",
    "except:\n",
    "    pass\n",
    "\n",
    "#PlotBall\n",
    "try:\n",
    "    ax.plot(theta_ball,dist_balls,marker='o',markersize=45)\n",
    "    ax.text( s =r'BALL',x=theta_ball, y=dist_balls, horizontalalignment='center',\n",
    "            verticalalignment='center')\n",
    "except:\n",
    "    pass\n",
    "\n",
    "#Data points of ball\n",
    "try:\n",
    "    y_ball = np.nan_to_num(ball_np[:,3])+np.isnan(ball_np[:,3])*(max_val*0.8)\n",
    "    ax.plot(ball_np[:,2],y_ball,marker='o',markersize=5)\n",
    "except:\n",
    "    pass\n",
    "                    \n",
    "#Data points of gate\n",
    "try:\n",
    "    ax.plot(gate_theta,gate_dist,marker='o',markersize=5)\n",
    "except:\n",
    "    pass\n",
    "\n",
    "ax.set_rmax(max_val)\n",
    "ax.set_rlabel_position(0)  # get radial labels away from plotted line\n",
    "ax.grid(True)\n",
    "\n",
    "ax.set_title(\"Objects around the TURTLEBOT\", va='bottom')\n",
    "xL = [0,0.25,0.5,0.75,1,1.25,1.5,1.75]\n",
    "xL = [round(math.pi*x,2) for x in xL]\n",
    "ax.set_xticklabels(xL, fontdict=None, minor=False)\n",
    "plt.show()"
   ]
  },
  {
   "cell_type": "code",
   "execution_count": 87,
   "metadata": {},
   "outputs": [],
   "source": [
    "#calculate angle and distance to go to he position to kick the ball\n",
    "dist_BT = 0.5\n",
    "ang_GRB = abs(theta_gate - theta_ball)\n",
    "dist_RB = dist_balls\n",
    "dist_RG = dist_gate\n",
    "dist_BG = math.sqrt(pow(dist_RG,2) + pow(dist_RB,2) - 2*dist_RG*dist_RB*math.cos(ang_GRB))\n",
    "ang_GBR = math.acos((pow(dist_BG,2) + pow(dist_RB,2) - pow(dist_RG,2)) / (2*dist_BG*dist_RB))\n",
    "ang_RBT = math.pi - ang_GBR\n",
    "dist_RT = math.sqrt(pow(dist_RB,2) + pow(dist_BT,2) - 2*dist_RB*dist_BT*math.cos(ang_RBT))\n",
    "ang_BRT = math.acos((pow(dist_RB,2) + pow(dist_RT,2) - pow(dist_BT,2)) / (2*dist_RB*dist_RT))\n",
    "ang_BTR = math.acos((pow(dist_BT,2) + pow(dist_RT,2) - pow(dist_RB,2)) / (2*dist_BT*dist_RT))\n",
    "ang_back = math.pi - ang_BTR\n",
    "if theta_ball < theta_gate:\n",
    "    theta_tar = theta_ball - ang_BRT\n",
    "    theta_back = theta_tar + ang_back\n",
    "else:\n",
    "    theta_tar = theta_ball + ang_BRT\n",
    "    theta_back = theta_tar - ang_back\n"
   ]
  },
  {
   "cell_type": "code",
   "execution_count": 88,
   "metadata": {},
   "outputs": [],
   "source": [
    "#move to the target position\n",
    "turnToTheta(theta_tar)\n",
    "moveForward(dist_RT)\n",
    "\n",
    "turnToTheta(theta_back)\n",
    "\n",
    "#Get gate distance\n",
    "rospy.sleep(0.5)\n",
    "m = marker_array[0]\n",
    "goal_dist = abs(m.pose.pose.position.z)\n",
    "moveForward(goal_dist-0.15) #we stop 15 cm ahead so it wont hit the gate\n",
    "\n",
    "def getAngleDiff():\n",
    "    x_theta = x_ball - img_w/2\n",
    "    y_theta = img_h - y_ball\n",
    "    angle = math.pi/2 - math.atan2(y_theta,x_theta)\n",
    "    return angle"
   ]
  },
  {
   "cell_type": "code",
   "execution_count": 33,
   "metadata": {},
   "outputs": [
    {
     "data": {
      "text/plain": [
       "(1.6242830188679243, 1.5744855857382016)"
      ]
     },
     "execution_count": 33,
     "metadata": {},
     "output_type": "execute_result"
    }
   ],
   "source": [
    "theta_gate, dist_gate"
   ]
  },
  {
   "cell_type": "code",
   "execution_count": 8,
   "metadata": {},
   "outputs": [
    {
     "data": {
      "text/plain": [
       "(2.243241935483871, 1.0883188247680664)"
      ]
     },
     "execution_count": 8,
     "metadata": {},
     "output_type": "execute_result"
    }
   ],
   "source": [
    "theta_ball, dist_balls"
   ]
  },
  {
   "cell_type": "code",
   "execution_count": 56,
   "metadata": {},
   "outputs": [],
   "source": [
    "#Theta cleanup\n",
    "sd = np.std(gate_theta)\n",
    "mean = np.mean(gate_theta)\n",
    "final_list = [x for x in gate_theta if (x > mean - sd)]\n",
    "final_list = [x for x in final_list if (x < mean +  sd)]\n",
    "theta_gate = np.median(final_list)\n",
    "\n",
    "sd = np.std(gate_dist)\n",
    "mean = np.mean(gate_dist)\n",
    "final_list = [x for x in gate_dist if (x > mean - sd)]\n",
    "final_list = [x for x in final_list if (x < mean +  sd)]\n",
    "dist_gate = np.mean(final_list)"
   ]
  },
  {
   "cell_type": "code",
   "execution_count": 83,
   "metadata": {},
   "outputs": [
    {
     "data": {
      "text/plain": [
       "array([[  16.        ,  361.        ,    1.69      ,           nan],\n",
       "       [  18.        ,  361.        ,    1.701     ,           nan],\n",
       "       [  18.        ,  361.        ,    1.711     ,           nan],\n",
       "       [  20.        ,  359.        ,    1.723     ,           nan],\n",
       "       [  20.        ,  359.        ,    1.726     ,           nan],\n",
       "       [  22.        ,  361.        ,    1.741     ,           nan],\n",
       "       [  22.        ,  361.        ,    1.752     ,           nan],\n",
       "       [  23.        ,  358.        ,    1.762     ,           nan],\n",
       "       [  23.        ,  358.        ,    1.773     ,           nan],\n",
       "       [  25.        ,  358.        ,    1.786     ,           nan],\n",
       "       [  30.        ,  354.        ,    1.792     ,           nan],\n",
       "       [  30.        ,  354.        ,    1.803     ,           nan],\n",
       "       [  32.        ,  355.        ,    1.814     ,           nan],\n",
       "       [  32.        ,  355.        ,    1.824     ,    2.52613044],\n",
       "       [  41.        ,  352.        ,    1.828     ,    1.80698264],\n",
       "       [  41.        ,  352.        ,    1.847     ,    1.83039021],\n",
       "       [  43.        ,  368.        ,    1.856     ,    1.47532642],\n",
       "       [  43.        ,  368.        ,    1.868     ,    1.5857296 ],\n",
       "       [  43.        ,  368.        ,    1.871     ,    1.5857296 ],\n",
       "       [  46.        ,  373.        ,    1.883     ,    1.4927392 ],\n",
       "       [  53.        ,  351.        ,    1.899     ,    1.60979879],\n",
       "       [  53.        ,  351.        ,    1.899     ,    1.67403507],\n",
       "       [  56.        ,  350.        ,    1.91      ,    1.68765152],\n",
       "       [  56.        ,  350.        ,    1.921     ,    1.64251542],\n",
       "       [  58.        ,  350.        ,    1.93      ,    1.65670657],\n",
       "       [  58.        ,  350.        ,    1.941     ,    1.62680817],\n",
       "       [  71.        ,  348.        ,    1.944     ,    1.59533119],\n",
       "       [  71.        ,  348.        ,    1.954     ,    1.63569129],\n",
       "       [  74.        ,  347.        ,    1.965     ,    1.68272805],\n",
       "       [  81.        ,  348.        ,    1.972     ,    1.6802876 ],\n",
       "       [ 100.        ,  344.        ,    1.987     ,    1.65444946],\n",
       "       [ 104.        ,  349.        ,    1.998     ,    1.60798001],\n",
       "       [ 116.        ,  344.        ,    2.01      ,    1.64077675],\n",
       "       [ 116.        ,  344.        ,    2.02      ,    1.68548334],\n",
       "       [ 134.        ,  350.        ,    2.033     ,    1.49931073],\n",
       "       [ 134.        ,  350.        ,    2.036     ,    1.50598288],\n",
       "       [ 139.        ,  348.        ,    2.047     ,    1.56450176],\n",
       "       [ 139.        ,  348.        ,    2.059     ,    1.58954716],\n",
       "       [ 147.        ,  346.        ,    2.064     ,    1.6369108 ],\n",
       "       [ 147.        ,  346.        ,    2.075     ,    1.64799953],\n",
       "       [ 147.        ,  346.        ,    2.09      ,    1.6753577 ],\n",
       "       [ 163.        ,  347.        ,    2.102     ,    1.61606646],\n",
       "       [ 172.        ,  347.        ,    2.116     ,    1.54740262],\n",
       "       [ 172.        ,  347.        ,    2.116     ,    1.60900283],\n",
       "       [ 173.        ,  347.        ,    2.126     ,    1.67995906],\n",
       "       [ 187.        ,  351.        ,    2.138     ,    1.53022373],\n",
       "       [ 187.        ,  351.        ,    2.154     ,    1.57280254],\n",
       "       [ 190.        ,  348.        ,    2.161     ,    1.69189036],\n",
       "       [ 199.        ,  357.        ,    2.175     ,    1.58533454],\n",
       "       [ 199.        ,  357.        ,    2.188     ,    1.60475051],\n",
       "       [ 200.        ,  356.        ,    2.204     ,    1.65999067],\n",
       "       [ 200.        ,  356.        ,    2.22      ,    1.65165544],\n",
       "       [ 213.        ,  356.        ,    2.224     ,    1.64966691],\n",
       "       [ 213.        ,  356.        ,    2.236     ,    1.65295565],\n",
       "       [ 213.        ,  356.        ,    2.252     ,    1.66926444],\n",
       "       [ 219.        ,  355.        ,    2.269     ,    1.70776534],\n",
       "       [ 219.        ,  355.        ,    2.275     ,    1.72864747],\n",
       "       [ 229.        ,  355.        ,    2.297     ,    1.74370134],\n",
       "       [ 229.        ,  355.        ,    2.307     ,    1.74370134],\n",
       "       [ 236.        ,  357.        ,    2.321     ,    1.71782672],\n",
       "       [ 259.        ,  354.        ,    2.321     ,    1.78441453],\n",
       "       [ 259.        ,  354.        ,    2.333     ,    1.7998811 ],\n",
       "       [ 267.        ,  354.        ,    2.351     ,    1.81251228],\n",
       "       [ 267.        ,  354.        ,    2.362     ,    1.7873162 ],\n",
       "       [ 270.        ,  353.        ,    2.374     ,    1.8196032 ],\n",
       "       [ 270.        ,  353.        ,    2.384     ,    1.82815826],\n",
       "       [ 273.        ,  354.        ,    2.384     ,    1.82784796],\n",
       "       [ 283.        ,  354.        ,    2.4       ,    1.8557055 ],\n",
       "       [ 299.        ,  353.        ,    2.411     ,    1.85698211],\n",
       "       [ 299.        ,  353.        ,    2.424     ,    1.87525105],\n",
       "       [ 299.        ,  353.        ,    2.427     ,    1.86032879],\n",
       "       [ 302.        ,  354.        ,    2.437     ,    1.89861917],\n",
       "       [ 302.        ,  354.        ,    2.451     ,    1.89861917],\n",
       "       [ 329.        ,  355.        ,    2.455     ,    1.87154305],\n",
       "       [ 329.        ,  355.        ,    2.468     ,    1.87154305],\n",
       "       [ 334.        ,  355.        ,    2.482     ,    1.8578335 ],\n",
       "       [ 334.        ,  355.        ,    2.493     ,    1.86968911],\n",
       "       [ 347.        ,  359.        ,    2.51      ,    1.76848245],\n",
       "       [ 347.        ,  359.        ,    2.521     ,    1.79250348],\n",
       "       [ 363.        ,  360.        ,    2.534     ,    1.75106251],\n",
       "       [ 363.        ,  360.        ,    2.534     ,    1.74516284],\n",
       "       [ 367.        ,  360.        ,    2.547     ,    1.74888229],\n",
       "       [ 367.        ,  360.        ,    2.564     ,    1.74888229],\n",
       "       [ 377.        ,  360.        ,    2.576     ,    1.71690881],\n",
       "       [ 393.        ,  362.        ,    2.587     ,    1.59900856],\n",
       "       [ 393.        ,  362.        ,    2.598     ,    1.65842342],\n",
       "       [ 403.        ,  360.        ,    2.598     ,    1.63468528],\n",
       "       [ 409.        ,  363.        ,    2.617     ,    1.57325315],\n",
       "       [ 409.        ,  363.        ,    2.63      ,    1.6165843 ],\n",
       "       [ 412.        ,  364.        ,    2.644     ,    1.63670647],\n",
       "       [ 412.        ,  364.        ,    2.647     ,    1.62134123],\n",
       "       [ 416.        ,  363.        ,    2.658     ,    1.62011981],\n",
       "       [ 437.        ,  367.        ,    2.674     ,    1.52144742],\n",
       "       [ 437.        ,  367.        ,    2.686     ,    1.47095382],\n",
       "       [ 441.        ,  367.        ,    2.692     ,    1.51976812],\n",
       "       [ 441.        ,  367.        ,    2.703     ,    1.55316067],\n",
       "       [ 455.        ,  368.        ,    2.716     ,    1.42595947],\n",
       "       [ 474.        ,  371.        ,    2.727     ,    1.35060096],\n",
       "       [ 474.        ,  371.        ,    2.73      ,    1.43354392],\n",
       "       [ 476.        ,  372.        ,    2.75      ,    1.43997478],\n",
       "       [ 484.        ,  373.        ,    2.76      ,    1.40297461],\n",
       "       [ 484.        ,  373.        ,    2.774     ,    1.41683435],\n",
       "       [ 497.        ,  373.        ,    2.778     ,    1.41770685],\n",
       "       [ 501.        ,  374.        ,    2.79      ,    1.40317094],\n",
       "       [ 501.        ,  374.        ,    2.804     ,    1.38823235],\n",
       "       [ 510.        ,  375.        ,    2.804     ,    1.3655889 ],\n",
       "       [ 529.        ,  377.        ,    2.814     ,    1.26472449],\n",
       "       [ 532.        ,  377.        ,    2.826     ,    1.2876296 ],\n",
       "       [ 532.        ,  377.        ,    2.841     ,    1.32841313],\n",
       "       [ 540.        ,  379.        ,    2.846     ,    1.29582787],\n",
       "       [ 563.        ,  381.        ,    2.857     ,    1.25567889],\n",
       "       [ 563.        ,  381.        ,    2.868     ,    1.25244236],\n",
       "       [ 566.        ,  382.        ,    2.878     ,    1.27991474],\n",
       "       [ 566.        ,  382.        ,    2.889     ,    1.27991474],\n",
       "       [ 574.        ,  383.        ,    2.894     ,    1.30687642],\n",
       "       [ 574.        ,  383.        ,    2.905     ,    1.31685638],\n",
       "       [ 576.        ,  383.        ,    2.917     ,    1.30203629],\n",
       "       [ 576.        ,  383.        ,    2.928     ,    1.29802167],\n",
       "       [ 576.        ,  383.        ,    2.94      ,    1.30506563],\n",
       "       [ 584.        ,  386.        ,    2.952     ,    1.26451087],\n",
       "       [ 584.        ,  386.        ,    2.955     ,    1.26451087],\n",
       "       [ 588.        ,  388.        ,    2.965     ,    1.24274361],\n",
       "       [ 590.        ,  388.        ,    2.978     ,    1.24987602],\n",
       "       [ 593.        ,  386.        ,    2.987     ,    1.19494963],\n",
       "       [ 600.        ,  389.        ,    2.998     ,    1.19173598],\n",
       "       [ 602.        ,  389.        ,    3.002     ,    1.24725676],\n",
       "       [ 604.        ,  390.        ,    3.013     ,    1.24008393],\n",
       "       [ 612.        ,  395.        ,    3.025     ,    1.21259105],\n",
       "       [ 615.        ,  395.        ,    3.035     ,    1.21422732],\n",
       "       [ 617.        ,  395.        ,    3.047     ,    1.21995163]])"
      ]
     },
     "execution_count": 83,
     "metadata": {},
     "output_type": "execute_result"
    }
   ],
   "source": [
    "ball_np"
   ]
  },
  {
   "cell_type": "code",
   "execution_count": 3,
   "metadata": {},
   "outputs": [
    {
     "name": "stderr",
     "output_type": "stream",
     "text": [
      "/usr/lib/python2.7/dist-packages/numpy/lib/nanfunctions.py:675: RuntimeWarning: Mean of empty slice\n",
      "  warnings.warn(\"Mean of empty slice\", RuntimeWarning)\n"
     ]
    }
   ],
   "source": [
    "moveForward(1.0)"
   ]
  },
  {
   "cell_type": "code",
   "execution_count": 23,
   "metadata": {},
   "outputs": [],
   "source": [
    "m = marker_array[0]\n",
    "goal_dist = math.sqrt(m.pose.pose.position.z**2 + m.pose.pose.position.x**2)"
   ]
  },
  {
   "cell_type": "code",
   "execution_count": 11,
   "metadata": {},
   "outputs": [],
   "source": [
    "sd = np.std(gate_theta)\n",
    "mean = np.mean(gate_theta)"
   ]
  },
  {
   "cell_type": "code",
   "execution_count": 12,
   "metadata": {},
   "outputs": [
    {
     "data": {
      "text/plain": [
       "(2.8656374659778261, 2.980053571428571)"
      ]
     },
     "execution_count": 12,
     "metadata": {},
     "output_type": "execute_result"
    }
   ],
   "source": [
    "sd, mean"
   ]
  },
  {
   "cell_type": "code",
   "execution_count": 24,
   "metadata": {},
   "outputs": [
    {
     "name": "stdout",
     "output_type": "stream",
     "text": [
      "3.14159265359\n"
     ]
    }
   ],
   "source": [
    "theta = math.pi *2\n",
    "theta_opposite = math.atan2(-math.sin(theta),-math.cos(theta))\n",
    "if theta_opposite < 0:\n",
    "    theta_opposite += 2* math.pi\n",
    "print theta_opposite"
   ]
  },
  {
   "cell_type": "code",
   "execution_count": 39,
   "metadata": {},
   "outputs": [
    {
     "data": {
      "text/plain": [
       "array([ 1.18500006,  1.18500006,  1.18100011,  1.18100011,  1.18900001,\n",
       "        1.19300008,  1.37000012,  1.52900004,  1.80300009,  1.79400003,\n",
       "        1.88200009,  1.73000014,  1.65500009,  1.61600006,  1.55000007,\n",
       "        1.64700007,  1.28700006,  1.28200006,  1.20600009,  1.12600005,\n",
       "        1.18900001,  1.07300007,         nan,         nan,  1.75700009,\n",
       "        1.70400012])"
      ]
     },
     "execution_count": 39,
     "metadata": {},
     "output_type": "execute_result"
    },
    {
     "data": {
      "image/png": "[encoded data removed]",
      "text/plain": [
       "<matplotlib.figure.Figure at 0x7f5522c68b10>"
      ]
     },
     "metadata": {},
     "output_type": "display_data"
    }
   ],
   "source": [
    "ball_np[:,3]"
   ]
  },
  {
   "cell_type": "code",
   "execution_count": 22,
   "metadata": {},
   "outputs": [
    {
     "name": "stdout",
     "output_type": "stream",
     "text": [
      "1.80706506893 0.525000071526\n"
     ]
    }
   ],
   "source": [
    "print dist_gate, dist_balls"
   ]
  },
  {
   "cell_type": "code",
   "execution_count": 40,
   "metadata": {},
   "outputs": [
    {
     "data": {
      "image/png": "[encoded data removed]",
      "text/plain": [
       "<matplotlib.figure.Figure at 0x7f5522c74550>"
      ]
     },
     "metadata": {},
     "output_type": "display_data"
    }
   ],
   "source": [
    "idx = (np.abs(ball_np[:,0]-320)).argmin()\n",
    "ball_pos = ball_np[idx]\n",
    "dist_balls = np.nanmin(ball_np[:,3])  + 0.12"
   ]
  },
  {
   "cell_type": "code",
   "execution_count": 41,
   "metadata": {},
   "outputs": [
    {
     "name": "stdout",
     "output_type": "stream",
     "text": [
      "16\n"
     ]
    }
   ],
   "source": [
    "print idx"
   ]
  },
  {
   "cell_type": "code",
   "execution_count": 42,
   "metadata": {},
   "outputs": [
    {
     "data": {
      "text/plain": [
       "array([ 378.        ,  201.        ,    5.869     ,    1.28700006])"
      ]
     },
     "execution_count": 42,
     "metadata": {},
     "output_type": "execute_result"
    },
    {
     "data": {
      "text/plain": [
       "<matplotlib.figure.Figure at 0x7f55236bff90>"
      ]
     },
     "metadata": {},
     "output_type": "display_data"
    }
   ],
   "source": [
    "ball_np[idx]"
   ]
  },
  {
   "cell_type": "code",
   "execution_count": 43,
   "metadata": {},
   "outputs": [
    {
     "data": {
      "text/plain": [
       "1.1850001"
      ]
     },
     "execution_count": 43,
     "metadata": {},
     "output_type": "execute_result"
    }
   ],
   "source": [
    "dist_ball"
   ]
  },
  {
   "cell_type": "code",
   "execution_count": 44,
   "metadata": {
    "scrolled": true
   },
   "outputs": [
    {
     "data": {
      "text/plain": [
       "array([[  4.03000000e+02,   3.34000000e+02,   4.81800000e+00,\n",
       "          1.18500006e+00],\n",
       "       [  4.03000000e+02,   3.35000000e+02,   4.82900000e+00,\n",
       "          1.18500006e+00],\n",
       "       [  4.03000000e+02,   3.35000000e+02,   4.84400000e+00,\n",
       "          1.18100011e+00],\n",
       "       [  4.04000000e+02,   3.35000000e+02,   4.85800000e+00,\n",
       "          1.18100011e+00],\n",
       "       [  4.04000000e+02,   3.34000000e+02,   4.89000000e+00,\n",
       "          1.18900001e+00],\n",
       "       [  4.13000000e+02,   3.34000000e+02,   4.92100000e+00,\n",
       "          1.19300008e+00],\n",
       "       [  4.19000000e+02,   3.34000000e+02,   4.96600000e+00,\n",
       "          1.37000012e+00],\n",
       "       [  4.30000000e+02,   3.34000000e+02,   5.02400000e+00,\n",
       "          1.52900004e+00],\n",
       "       [  4.47000000e+02,   3.35000000e+02,   5.07900000e+00,\n",
       "          1.80300009e+00],\n",
       "       [  4.69000000e+02,   3.35000000e+02,   5.12600000e+00,\n",
       "          1.79400003e+00],\n",
       "       [  4.78000000e+02,   3.35000000e+02,   5.17000000e+00,\n",
       "          1.88200009e+00],\n",
       "       [  5.02000000e+02,   3.35000000e+02,   5.23600000e+00,\n",
       "          1.73000014e+00],\n",
       "       [  5.33000000e+02,   3.34000000e+02,   5.31100000e+00,\n",
       "          1.65500009e+00],\n",
       "       [  5.66000000e+02,   3.33000000e+02,   5.39000000e+00,\n",
       "          1.61600006e+00],\n",
       "       [  6.01000000e+02,   3.36000000e+02,   5.47600000e+00,\n",
       "          1.55000007e+00],\n",
       "       [  6.18000000e+02,   3.43000000e+02,   5.56800000e+00,\n",
       "          1.64700007e+00],\n",
       "       [  3.78000000e+02,   2.01000000e+02,   5.86900000e+00,\n",
       "          1.28700006e+00],\n",
       "       [  4.22000000e+02,   2.03000000e+02,   5.96300000e+00,\n",
       "          1.28200006e+00],\n",
       "       [  4.27000000e+02,   2.01000000e+02,   6.05700000e+00,\n",
       "          1.20600009e+00],\n",
       "       [  4.27000000e+02,   2.01000000e+02,   6.13300000e+00,\n",
       "          1.12600005e+00],\n",
       "       [  4.74000000e+02,   1.98000000e+02,   6.23400000e+00,\n",
       "          1.18900001e+00],\n",
       "       [  5.68000000e+02,   1.96000000e+02,   3.00000000e-02,\n",
       "          1.07300007e+00],\n",
       "       [  6.28000000e+02,   1.54000000e+02,   1.32000000e-01,\n",
       "                     nan],\n",
       "       [  2.70000000e+01,   3.38000000e+02,   4.47500000e+00,\n",
       "                     nan],\n",
       "       [  6.60000000e+01,   3.43000000e+02,   4.58700000e+00,\n",
       "          1.75700009e+00],\n",
       "       [  1.67000000e+02,   3.40000000e+02,   4.70700000e+00,\n",
       "          1.70400012e+00]])"
      ]
     },
     "execution_count": 44,
     "metadata": {},
     "output_type": "execute_result"
    }
   ],
   "source": [
    "ball_np"
   ]
  },
  {
   "cell_type": "code",
   "execution_count": 72,
   "metadata": {},
   "outputs": [
    {
     "data": {
      "text/plain": [
       "array([        nan,         nan,         nan,  1.39200008,  1.39200008,\n",
       "        1.34800005,  1.29200006,  1.25900006,  1.15700006,  0.90800005,\n",
       "        0.74700004,  0.74900001,  0.73300004,  0.73300004,  0.73400003,\n",
       "        0.73400003,  0.73300004,  0.73000002,  0.73400003,  0.73700005,\n",
       "        0.74500006,  0.75000006,  0.75400001,  0.76200002,  0.76200002,\n",
       "        0.76400006,  0.77100003,  0.77800006,  0.78300005,  0.78300005,\n",
       "        0.78300005,  0.78700006,  0.79000002,  0.79200006,  0.79200006,\n",
       "        0.79200006,  0.79600006,  0.79400003,  0.79400003,  0.79400003,\n",
       "        0.79600006,  0.79400003,  0.79600006,  0.79800004,  0.79800004,\n",
       "        0.79600006,  0.79600006,  0.79600006,  0.79400003,  0.79200006,\n",
       "        0.79200006,  0.79200006,  0.79000002,  0.79000002,  0.78300005,\n",
       "        0.78500003,  0.77400005,  0.77400005,  0.76900005,  0.76600003,\n",
       "        0.76400006,  0.75900006,  0.75400001,  0.74900001,  0.74400002,\n",
       "        0.73600006,  0.73300004,  0.72300005,  0.72200006,  0.72300005,\n",
       "        0.72300005,  0.72200006,  0.71400005,  0.72000003,  0.72800004,\n",
       "        0.72200006,  0.72500002,         nan,         nan,  3.14700007,\n",
       "        3.14700007,  1.44500005,  2.13550019,  1.49600005,  1.5430001 ,\n",
       "        1.50200009,  1.5150001 ,  1.50200009,  1.50900006,  1.50900006,\n",
       "        1.5150001 ,  1.49600005,  1.49600005,  1.50200009,  1.48300004,\n",
       "        1.46400011,  1.47000003])"
      ]
     },
     "execution_count": 72,
     "metadata": {},
     "output_type": "execute_result"
    }
   ],
   "source": [
    "ball_np[:,3]"
   ]
  },
  {
   "cell_type": "code",
   "execution_count": 78,
   "metadata": {},
   "outputs": [],
   "source": [
    "def medfilt (x, k):\n",
    "    \"\"\"Apply a length-k median filter to a 1D array x.\n",
    "    Boundaries are extended by repeating endpoints.\n",
    "    \"\"\"\n",
    "    assert k % 2 == 1, \"Median filter length must be odd.\"\n",
    "    assert x.ndim == 1, \"Input must be one-dimensional.\"\n",
    "    k2 = (k - 1) // 2\n",
    "    y = np.zeros ((len (x), k), dtype=x.dtype)\n",
    "    y[:,k2] = x\n",
    "    for i in range (k2):\n",
    "        j = k2 - i\n",
    "        y[j:,i] = x[:-j]\n",
    "        y[:j,i] = x[0]\n",
    "        y[:-j,-(i+1)] = x[j:]\n",
    "        y[-j:,-(i+1)] = x[-1]\n",
    "    return np.median (y, axis=1)\n"
   ]
  },
  {
   "cell_type": "code",
   "execution_count": 83,
   "metadata": {},
   "outputs": [
    {
     "data": {
      "text/plain": [
       "0.79000002145767212"
      ]
     },
     "execution_count": 83,
     "metadata": {},
     "output_type": "execute_result"
    }
   ],
   "source": [
    "np.nanmedian(medfilt(ball_np[:,3],3))"
   ]
  },
  {
   "cell_type": "code",
   "execution_count": 35,
   "metadata": {},
   "outputs": [
    {
     "name": "stdout",
     "output_type": "stream",
     "text": [
      "0.441993070136\n"
     ]
    }
   ],
   "source": [
    "print np.std(final_list)"
   ]
  },
  {
   "cell_type": "code",
   "execution_count": 41,
   "metadata": {},
   "outputs": [
    {
     "data": {
      "text/plain": [
       "1.5309999999999999"
      ]
     },
     "execution_count": 41,
     "metadata": {},
     "output_type": "execute_result"
    }
   ],
   "source": [
    "np.median(final_list)"
   ]
  },
  {
   "cell_type": "code",
   "execution_count": 67,
   "metadata": {},
   "outputs": [
    {
     "data": {
      "text/plain": [
       "0.79400002956390381"
      ]
     },
     "execution_count": 67,
     "metadata": {},
     "output_type": "execute_result"
    }
   ],
   "source": [
    "dist_balls"
   ]
  },
  {
   "cell_type": "code",
   "execution_count": 71,
   "metadata": {},
   "outputs": [
    {
     "data": {
      "text/plain": [
       "0.79000002145767212"
      ]
     },
     "execution_count": 71,
     "metadata": {},
     "output_type": "execute_result"
    }
   ],
   "source": [
    "np.nanmedian(ball_np[:,3])"
   ]
  },
  {
   "cell_type": "code",
   "execution_count": null,
   "metadata": {},
   "outputs": [],
   "source": []
  }
 ],
 "metadata": {
  "kernelspec": {
   "display_name": "Python 2",
   "language": "python",
   "name": "python2"
  },
  "language_info": {
   "codemirror_mode": {
    "name": "ipython",
    "version": 2
   },
   "file_extension": ".py",
   "mimetype": "text/x-python",
   "name": "python",
   "nbconvert_exporter": "python",
   "pygments_lexer": "ipython2",
   "version": "2.7.12"
  }
 },
 "nbformat": 4,
 "nbformat_minor": 2
}
