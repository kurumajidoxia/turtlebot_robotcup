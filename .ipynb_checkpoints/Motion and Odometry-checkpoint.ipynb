{
 "cells": [
  {
   "cell_type": "code",
   "execution_count": 7,
   "metadata": {},
   "outputs": [],
   "source": [
    "import rospy\n",
    "import math\n",
    "\n",
    "from geometry_msgs.msg import Twist\n",
    "from nav_msgs.msg import Odometry"
   ]
  },
  {
   "cell_type": "code",
   "execution_count": 8,
   "metadata": {},
   "outputs": [],
   "source": [
    "rospy.init_node('turtlebot_controller',anonymous=True)"
   ]
  },
  {
   "cell_type": "code",
   "execution_count": 9,
   "metadata": {},
   "outputs": [],
   "source": [
    "def callback_odom(data):\n",
    "    global x\n",
    "    global y\n",
    "    global theta\n",
    "    position = data.pose.pose.position\n",
    "    orientation = data.pose.pose.orientation\n",
    "    x = round(position.x, 3)\n",
    "    y = round(position.y, 3)\n",
    "    theta = round(2*math.atan2(orientation.z,orientation.w), 3)"
   ]
  },
  {
   "cell_type": "code",
   "execution_count": 10,
   "metadata": {},
   "outputs": [],
   "source": [
    "subscriber = rospy.Subscriber(\"odom\", Odometry, callback_odom)"
   ]
  },
  {
   "cell_type": "code",
   "execution_count": 11,
   "metadata": {},
   "outputs": [],
   "source": [
    "publisher = rospy.Publisher('cmd_vel_mux/input/teleop', Twist, queue_size=10)"
   ]
  },
  {
   "cell_type": "code",
   "execution_count": 12,
   "metadata": {},
   "outputs": [
    {
     "name": "stdout",
     "output_type": "stream",
     "text": [
      "(-1.154, -0.551, -1.369)\n",
      "(-1.036, -1.092, -1.364)\n"
     ]
    }
   ],
   "source": [
    "print (x,y,theta)\n",
    "twist = Twist()\n",
    "twist.linear.x = 0.2\n",
    "twist.angular.z = 0.0\n",
    "r = rospy.Rate(10)\n",
    "for i in range(40):\n",
    "    publisher.publish(twist)\n",
    "    r.sleep()\n",
    "print (x,y,theta)"
   ]
  },
  {
   "cell_type": "code",
   "execution_count": 13,
   "metadata": {},
   "outputs": [
    {
     "name": "stdout",
     "output_type": "stream",
     "text": [
      "(-1.002, -1.272, -2.226)\n",
      "(-1.002, -1.272, -2.319)\n"
     ]
    }
   ],
   "source": [
    "print (x,y,theta)\n",
    "twist = Twist()\n",
    "twist.linear.x = 0.0\n",
    "twist.angular.z = -0.2\n",
    "r = rospy.Rate(10)\n",
    "for i in range(40):\n",
    "    publisher.publish(twist)\n",
    "    r.sleep()\n",
    "print (x,y,theta)"
   ]
  },
  {
   "cell_type": "code",
   "execution_count": null,
   "metadata": {
    "collapsed": true
   },
   "outputs": [],
   "source": [
    "print (x,y,theta)\n",
    "twist = Twist()\n",
    "twist.linear.x = 0.0\n",
    "twist.angular.z = 0.0\n",
    "r = rospy.Rate(10)\n",
    "for i in range(5):\n",
    "    publisher.publish(twist)\n",
    "    r.sleep()\n",
    "print (x,y,theta)"
   ]
  }
 ],
 "metadata": {
  "kernelspec": {
   "display_name": "Python 2",
   "language": "python",
   "name": "python2"
  },
  "language_info": {
   "codemirror_mode": {
    "name": "ipython",
    "version": 2
   },
   "file_extension": ".py",
   "mimetype": "text/x-python",
   "name": "python",
   "nbconvert_exporter": "python",
   "pygments_lexer": "ipython2",
   "version": "2.7.12"
  }
 },
 "nbformat": 4,
 "nbformat_minor": 1
}
