{
 "cells": [
  {
   "cell_type": "code",
   "execution_count": 1,
   "metadata": {},
   "outputs": [],
   "source": [
    "import rospy\n",
    "import math\n",
    "\n",
    "from geometry_msgs.msg import Twist\n",
    "from nav_msgs.msg import Odometry"
   ]
  },
  {
   "cell_type": "code",
   "execution_count": 2,
   "metadata": {},
   "outputs": [],
   "source": [
    "rospy.init_node('turtlebot_controller',anonymous=True)"
   ]
  },
  {
   "cell_type": "code",
   "execution_count": 3,
   "metadata": {},
   "outputs": [],
   "source": [
    "def callback_odom(data):\n",
    "    global x\n",
    "    global y\n",
    "    global theta\n",
    "    position = data.pose.pose.position\n",
    "    orientation = data.pose.pose.orientation\n",
    "    x = round(position.x, 3)\n",
    "    y = round(position.y, 3)\n",
    "    theta = round(2*math.atan2(orientation.z,orientation.w), 3)"
   ]
  },
  {
   "cell_type": "code",
   "execution_count": 4,
   "metadata": {},
   "outputs": [],
   "source": [
    "def moveForward(distance):\n",
    "    dist_cali = (distance-0.14)/0.85\n",
    "    t = int(round(dist_cali*25))\n",
    "    twist = Twist()\n",
    "    twist.linear.x = 0.4\n",
    "    twist.angular.z = 0.0\n",
    "    r = rospy.Rate(10)\n",
    "    for i in range(t):\n",
    "        publisher.publish(twist)\n",
    "        r.sleep()"
   ]
  },
  {
   "cell_type": "code",
   "execution_count": 5,
   "metadata": {},
   "outputs": [],
   "source": [
    "subscriber = rospy.Subscriber(\"odom\", Odometry, callback_odom)"
   ]
  },
  {
   "cell_type": "code",
   "execution_count": 6,
   "metadata": {},
   "outputs": [],
   "source": [
    "publisher = rospy.Publisher('cmd_vel_mux/input/teleop', Twist, queue_size=10)"
   ]
  },
  {
   "cell_type": "code",
   "execution_count": 7,
   "metadata": {},
   "outputs": [],
   "source": [
    "moveForward(0.7)"
   ]
  },
  {
   "cell_type": "code",
   "execution_count": 12,
   "metadata": {},
   "outputs": [
    {
     "name": "stdout",
     "output_type": "stream",
     "text": [
      "(2.145, 0.139, -0.08)\n",
      "(2.9, 0.077, -0.076)\n",
      "2.50185585022 0.75754141801\n"
     ]
    }
   ],
   "source": [
    "import time\n",
    "print (x,y,theta)\n",
    "twist = Twist()\n",
    "twist.linear.x = 0.4\n",
    "twist.angular.z = 0.0\n",
    "r = rospy.Rate(10)\n",
    "xs = x\n",
    "ys = y\n",
    "start = time.time()\n",
    "for i in range(25):\n",
    "    publisher.publish(twist)\n",
    "    r.sleep()\n",
    "print (x,y,theta)\n",
    "print time.time()-start, math.sqrt(pow(x-xs,2) + pow(y-ys,2))"
   ]
  },
  {
   "cell_type": "code",
   "execution_count": 28,
   "metadata": {},
   "outputs": [
    {
     "name": "stdout",
     "output_type": "stream",
     "text": [
      "(-1.091, 5.772, -1.222)\n",
      "(-1.09, 5.771, -1.943)\n"
     ]
    }
   ],
   "source": [
    "print (x,y,theta)\n",
    "twist = Twist()\n",
    "twist.linear.x = 0.4\n",
    "twist.angular.z = 0.0\n",
    "\n",
    "r = rospy.Rate(10)\n",
    "for i in range(30):\n",
    "    publisher.publish(twist)\n",
    "    r.sleep()\n",
    "print (x,y,theta)"
   ]
  },
  {
   "cell_type": "code",
   "execution_count": null,
   "metadata": {
    "collapsed": true
   },
   "outputs": [],
   "source": []
  }
 ],
 "metadata": {
  "kernelspec": {
   "display_name": "Python 2",
   "language": "python",
   "name": "python2"
  },
  "language_info": {
   "codemirror_mode": {
    "name": "ipython",
    "version": 2
   },
   "file_extension": ".py",
   "mimetype": "text/x-python",
   "name": "python",
   "nbconvert_exporter": "python",
   "pygments_lexer": "ipython2",
   "version": "2.7.12"
  }
 },
 "nbformat": 4,
 "nbformat_minor": 2
}
